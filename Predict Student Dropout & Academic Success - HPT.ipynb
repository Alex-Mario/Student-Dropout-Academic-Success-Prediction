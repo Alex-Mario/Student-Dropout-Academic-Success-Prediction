{
 "cells": [
  {
   "cell_type": "markdown",
   "id": "890dd22d-9d9d-4e8a-8696-b78a152c04c6",
   "metadata": {},
   "source": [
    "# MINI PROJECT"
   ]
  },
  {
   "cell_type": "markdown",
   "id": "6bc8d386-e967-433d-975d-cfc84565714b",
   "metadata": {},
   "source": [
    "## TELCO CUSTOMER Target PREDICTION"
   ]
  },
  {
   "cell_type": "markdown",
   "id": "dc122e4a-61d7-46b7-b8c4-b15d799e2f6f",
   "metadata": {},
   "source": [
    "Tujuan kali ini ialah untuk mencari parameter terbaik untuk model machine learning."
   ]
  },
  {
   "cell_type": "markdown",
   "id": "03628bc2-4860-43bd-b9cc-f786ea595036",
   "metadata": {},
   "source": [
    "## IMPORT LIBRARY"
   ]
  },
  {
   "cell_type": "code",
   "execution_count": 1,
   "id": "afc14add-6cb2-4467-aad5-40467b7998fe",
   "metadata": {},
   "outputs": [],
   "source": [
    "# import library yg diperlukan\n",
    "import pandas as pd\n",
    "import numpy as np\n",
    "import seaborn as sns\n",
    "import matplotlib.pyplot as plt\n",
    "\n",
    "#library untuk modeling\n",
    "from sklearn.model_selection import train_test_split, KFold, cross_val_score, cross_validate\n",
    "from sklearn.linear_model import LogisticRegression\n",
    "from sklearn.tree import DecisionTreeClassifier\n",
    "from sklearn.ensemble import RandomForestClassifier, AdaBoostClassifier, ExtraTreesClassifier, StackingClassifier, GradientBoostingClassifier\n",
    "\n",
    "#library untuk model evaluation\n",
    "from sklearn.metrics import confusion_matrix, classification_report, accuracy_score\n",
    "\n",
    "#library untuk hyperparameter tuning\n",
    "from sklearn.model_selection import GridSearchCV\n",
    "\n",
    "import warnings\n",
    "warnings.filterwarnings('ignore')"
   ]
  },
  {
   "cell_type": "markdown",
   "id": "ed68df1c-9188-45a9-ba30-8237e7b0fbf4",
   "metadata": {},
   "source": [
    "## OVERVIEW"
   ]
  },
  {
   "cell_type": "code",
   "execution_count": 2,
   "id": "5e549d13-eefe-4f50-9650-4f51c7a6054d",
   "metadata": {},
   "outputs": [],
   "source": [
    "#load data\n",
    "df_log = pd.read_csv(\"df_ready_log.csv\")\n",
    "df_dec = pd.read_csv(\"df_ready_dec.csv\")"
   ]
  },
  {
   "cell_type": "code",
   "execution_count": 3,
   "id": "04611868-4462-4a9f-af68-027b53118318",
   "metadata": {},
   "outputs": [
    {
     "data": {
      "text/html": [
       "<div>\n",
       "<style scoped>\n",
       "    .dataframe tbody tr th:only-of-type {\n",
       "        vertical-align: middle;\n",
       "    }\n",
       "\n",
       "    .dataframe tbody tr th {\n",
       "        vertical-align: top;\n",
       "    }\n",
       "\n",
       "    .dataframe thead th {\n",
       "        text-align: right;\n",
       "    }\n",
       "</style>\n",
       "<table border=\"1\" class=\"dataframe\">\n",
       "  <thead>\n",
       "    <tr style=\"text-align: right;\">\n",
       "      <th></th>\n",
       "      <th>Curricular units 2nd sem (approved)</th>\n",
       "      <th>Curricular units 2nd sem (grade)</th>\n",
       "      <th>Curricular units 1st sem (approved)</th>\n",
       "      <th>Tuition fees up to date</th>\n",
       "      <th>Curricular units 1st sem (grade)</th>\n",
       "      <th>Scholarship holder</th>\n",
       "      <th>Debtor</th>\n",
       "      <th>Curricular units 2nd sem (evaluations)</th>\n",
       "      <th>Course</th>\n",
       "      <th>Application mode</th>\n",
       "      <th>...</th>\n",
       "      <th>Curricular units 2nd sem (credited)</th>\n",
       "      <th>Previous qualification</th>\n",
       "      <th>Curricular units 1st sem (without evaluations)</th>\n",
       "      <th>Curricular units 2nd sem (without evaluations)</th>\n",
       "      <th>Marital status</th>\n",
       "      <th>Daytime/evening attendance\\t</th>\n",
       "      <th>Nationality</th>\n",
       "      <th>International</th>\n",
       "      <th>Educational special needs</th>\n",
       "      <th>Target</th>\n",
       "    </tr>\n",
       "  </thead>\n",
       "  <tbody>\n",
       "    <tr>\n",
       "      <th>0</th>\n",
       "      <td>0</td>\n",
       "      <td>0.000000</td>\n",
       "      <td>0</td>\n",
       "      <td>1</td>\n",
       "      <td>0.000000</td>\n",
       "      <td>0</td>\n",
       "      <td>0</td>\n",
       "      <td>0</td>\n",
       "      <td>171</td>\n",
       "      <td>17</td>\n",
       "      <td>...</td>\n",
       "      <td>0</td>\n",
       "      <td>1</td>\n",
       "      <td>0</td>\n",
       "      <td>0</td>\n",
       "      <td>1</td>\n",
       "      <td>1</td>\n",
       "      <td>1</td>\n",
       "      <td>0</td>\n",
       "      <td>0</td>\n",
       "      <td>0</td>\n",
       "    </tr>\n",
       "    <tr>\n",
       "      <th>1</th>\n",
       "      <td>6</td>\n",
       "      <td>13.666667</td>\n",
       "      <td>6</td>\n",
       "      <td>0</td>\n",
       "      <td>14.000000</td>\n",
       "      <td>0</td>\n",
       "      <td>0</td>\n",
       "      <td>6</td>\n",
       "      <td>9254</td>\n",
       "      <td>15</td>\n",
       "      <td>...</td>\n",
       "      <td>0</td>\n",
       "      <td>1</td>\n",
       "      <td>0</td>\n",
       "      <td>0</td>\n",
       "      <td>1</td>\n",
       "      <td>1</td>\n",
       "      <td>1</td>\n",
       "      <td>0</td>\n",
       "      <td>0</td>\n",
       "      <td>1</td>\n",
       "    </tr>\n",
       "    <tr>\n",
       "      <th>2</th>\n",
       "      <td>0</td>\n",
       "      <td>0.000000</td>\n",
       "      <td>0</td>\n",
       "      <td>0</td>\n",
       "      <td>0.000000</td>\n",
       "      <td>0</td>\n",
       "      <td>0</td>\n",
       "      <td>0</td>\n",
       "      <td>9070</td>\n",
       "      <td>1</td>\n",
       "      <td>...</td>\n",
       "      <td>0</td>\n",
       "      <td>1</td>\n",
       "      <td>0</td>\n",
       "      <td>0</td>\n",
       "      <td>1</td>\n",
       "      <td>1</td>\n",
       "      <td>1</td>\n",
       "      <td>0</td>\n",
       "      <td>0</td>\n",
       "      <td>0</td>\n",
       "    </tr>\n",
       "    <tr>\n",
       "      <th>3</th>\n",
       "      <td>5</td>\n",
       "      <td>12.400000</td>\n",
       "      <td>6</td>\n",
       "      <td>1</td>\n",
       "      <td>13.428571</td>\n",
       "      <td>0</td>\n",
       "      <td>0</td>\n",
       "      <td>10</td>\n",
       "      <td>9773</td>\n",
       "      <td>17</td>\n",
       "      <td>...</td>\n",
       "      <td>0</td>\n",
       "      <td>1</td>\n",
       "      <td>0</td>\n",
       "      <td>0</td>\n",
       "      <td>1</td>\n",
       "      <td>1</td>\n",
       "      <td>1</td>\n",
       "      <td>0</td>\n",
       "      <td>0</td>\n",
       "      <td>1</td>\n",
       "    </tr>\n",
       "    <tr>\n",
       "      <th>4</th>\n",
       "      <td>6</td>\n",
       "      <td>13.000000</td>\n",
       "      <td>5</td>\n",
       "      <td>1</td>\n",
       "      <td>12.333333</td>\n",
       "      <td>0</td>\n",
       "      <td>0</td>\n",
       "      <td>6</td>\n",
       "      <td>8014</td>\n",
       "      <td>39</td>\n",
       "      <td>...</td>\n",
       "      <td>0</td>\n",
       "      <td>1</td>\n",
       "      <td>0</td>\n",
       "      <td>0</td>\n",
       "      <td>2</td>\n",
       "      <td>0</td>\n",
       "      <td>1</td>\n",
       "      <td>0</td>\n",
       "      <td>0</td>\n",
       "      <td>1</td>\n",
       "    </tr>\n",
       "  </tbody>\n",
       "</table>\n",
       "<p>5 rows × 37 columns</p>\n",
       "</div>"
      ],
      "text/plain": [
       "   Curricular units 2nd sem (approved)  Curricular units 2nd sem (grade)  \\\n",
       "0                                    0                          0.000000   \n",
       "1                                    6                         13.666667   \n",
       "2                                    0                          0.000000   \n",
       "3                                    5                         12.400000   \n",
       "4                                    6                         13.000000   \n",
       "\n",
       "   Curricular units 1st sem (approved)  Tuition fees up to date  \\\n",
       "0                                    0                        1   \n",
       "1                                    6                        0   \n",
       "2                                    0                        0   \n",
       "3                                    6                        1   \n",
       "4                                    5                        1   \n",
       "\n",
       "   Curricular units 1st sem (grade)  Scholarship holder  Debtor  \\\n",
       "0                          0.000000                   0       0   \n",
       "1                         14.000000                   0       0   \n",
       "2                          0.000000                   0       0   \n",
       "3                         13.428571                   0       0   \n",
       "4                         12.333333                   0       0   \n",
       "\n",
       "   Curricular units 2nd sem (evaluations)  Course  Application mode  ...  \\\n",
       "0                                       0     171                17  ...   \n",
       "1                                       6    9254                15  ...   \n",
       "2                                       0    9070                 1  ...   \n",
       "3                                      10    9773                17  ...   \n",
       "4                                       6    8014                39  ...   \n",
       "\n",
       "   Curricular units 2nd sem (credited)  Previous qualification  \\\n",
       "0                                    0                       1   \n",
       "1                                    0                       1   \n",
       "2                                    0                       1   \n",
       "3                                    0                       1   \n",
       "4                                    0                       1   \n",
       "\n",
       "   Curricular units 1st sem (without evaluations)  \\\n",
       "0                                               0   \n",
       "1                                               0   \n",
       "2                                               0   \n",
       "3                                               0   \n",
       "4                                               0   \n",
       "\n",
       "   Curricular units 2nd sem (without evaluations)  Marital status  \\\n",
       "0                                               0               1   \n",
       "1                                               0               1   \n",
       "2                                               0               1   \n",
       "3                                               0               1   \n",
       "4                                               0               2   \n",
       "\n",
       "   Daytime/evening attendance\\t  Nationality  International  \\\n",
       "0                             1            1              0   \n",
       "1                             1            1              0   \n",
       "2                             1            1              0   \n",
       "3                             1            1              0   \n",
       "4                             0            1              0   \n",
       "\n",
       "   Educational special needs  Target  \n",
       "0                          0       0  \n",
       "1                          0       1  \n",
       "2                          0       0  \n",
       "3                          0       1  \n",
       "4                          0       1  \n",
       "\n",
       "[5 rows x 37 columns]"
      ]
     },
     "execution_count": 3,
     "metadata": {},
     "output_type": "execute_result"
    }
   ],
   "source": [
    "df_log.head()"
   ]
  },
  {
   "cell_type": "code",
   "execution_count": 4,
   "id": "434c36cd-0431-4ac7-a8f4-785bdb3c1671",
   "metadata": {},
   "outputs": [
    {
     "data": {
      "text/html": [
       "<div>\n",
       "<style scoped>\n",
       "    .dataframe tbody tr th:only-of-type {\n",
       "        vertical-align: middle;\n",
       "    }\n",
       "\n",
       "    .dataframe tbody tr th {\n",
       "        vertical-align: top;\n",
       "    }\n",
       "\n",
       "    .dataframe thead th {\n",
       "        text-align: right;\n",
       "    }\n",
       "</style>\n",
       "<table border=\"1\" class=\"dataframe\">\n",
       "  <thead>\n",
       "    <tr style=\"text-align: right;\">\n",
       "      <th></th>\n",
       "      <th>Curricular units 2nd sem (approved)</th>\n",
       "      <th>Curricular units 2nd sem (grade)</th>\n",
       "      <th>Curricular units 1st sem (approved)</th>\n",
       "      <th>Tuition fees up to date</th>\n",
       "      <th>Curricular units 1st sem (grade)</th>\n",
       "      <th>Scholarship holder</th>\n",
       "      <th>Debtor</th>\n",
       "      <th>Curricular units 2nd sem (evaluations)</th>\n",
       "      <th>Course</th>\n",
       "      <th>Application mode</th>\n",
       "      <th>...</th>\n",
       "      <th>Curricular units 2nd sem (credited)</th>\n",
       "      <th>Previous qualification</th>\n",
       "      <th>Curricular units 1st sem (without evaluations)</th>\n",
       "      <th>Curricular units 2nd sem (without evaluations)</th>\n",
       "      <th>Marital status</th>\n",
       "      <th>Daytime/evening attendance\\t</th>\n",
       "      <th>Nationality</th>\n",
       "      <th>International</th>\n",
       "      <th>Educational special needs</th>\n",
       "      <th>Target</th>\n",
       "    </tr>\n",
       "  </thead>\n",
       "  <tbody>\n",
       "    <tr>\n",
       "      <th>0</th>\n",
       "      <td>0</td>\n",
       "      <td>0.000000</td>\n",
       "      <td>0</td>\n",
       "      <td>1</td>\n",
       "      <td>0.000000</td>\n",
       "      <td>0</td>\n",
       "      <td>0</td>\n",
       "      <td>0</td>\n",
       "      <td>171</td>\n",
       "      <td>17</td>\n",
       "      <td>...</td>\n",
       "      <td>0</td>\n",
       "      <td>1</td>\n",
       "      <td>0</td>\n",
       "      <td>0</td>\n",
       "      <td>1</td>\n",
       "      <td>1</td>\n",
       "      <td>1</td>\n",
       "      <td>0</td>\n",
       "      <td>0</td>\n",
       "      <td>0</td>\n",
       "    </tr>\n",
       "    <tr>\n",
       "      <th>1</th>\n",
       "      <td>6</td>\n",
       "      <td>13.666667</td>\n",
       "      <td>6</td>\n",
       "      <td>0</td>\n",
       "      <td>14.000000</td>\n",
       "      <td>0</td>\n",
       "      <td>0</td>\n",
       "      <td>6</td>\n",
       "      <td>9254</td>\n",
       "      <td>15</td>\n",
       "      <td>...</td>\n",
       "      <td>0</td>\n",
       "      <td>1</td>\n",
       "      <td>0</td>\n",
       "      <td>0</td>\n",
       "      <td>1</td>\n",
       "      <td>1</td>\n",
       "      <td>1</td>\n",
       "      <td>0</td>\n",
       "      <td>0</td>\n",
       "      <td>1</td>\n",
       "    </tr>\n",
       "    <tr>\n",
       "      <th>2</th>\n",
       "      <td>0</td>\n",
       "      <td>0.000000</td>\n",
       "      <td>0</td>\n",
       "      <td>0</td>\n",
       "      <td>0.000000</td>\n",
       "      <td>0</td>\n",
       "      <td>0</td>\n",
       "      <td>0</td>\n",
       "      <td>9070</td>\n",
       "      <td>1</td>\n",
       "      <td>...</td>\n",
       "      <td>0</td>\n",
       "      <td>1</td>\n",
       "      <td>0</td>\n",
       "      <td>0</td>\n",
       "      <td>1</td>\n",
       "      <td>1</td>\n",
       "      <td>1</td>\n",
       "      <td>0</td>\n",
       "      <td>0</td>\n",
       "      <td>0</td>\n",
       "    </tr>\n",
       "    <tr>\n",
       "      <th>3</th>\n",
       "      <td>5</td>\n",
       "      <td>12.400000</td>\n",
       "      <td>6</td>\n",
       "      <td>1</td>\n",
       "      <td>13.428571</td>\n",
       "      <td>0</td>\n",
       "      <td>0</td>\n",
       "      <td>10</td>\n",
       "      <td>9773</td>\n",
       "      <td>17</td>\n",
       "      <td>...</td>\n",
       "      <td>0</td>\n",
       "      <td>1</td>\n",
       "      <td>0</td>\n",
       "      <td>0</td>\n",
       "      <td>1</td>\n",
       "      <td>1</td>\n",
       "      <td>1</td>\n",
       "      <td>0</td>\n",
       "      <td>0</td>\n",
       "      <td>1</td>\n",
       "    </tr>\n",
       "    <tr>\n",
       "      <th>4</th>\n",
       "      <td>6</td>\n",
       "      <td>13.000000</td>\n",
       "      <td>5</td>\n",
       "      <td>1</td>\n",
       "      <td>12.333333</td>\n",
       "      <td>0</td>\n",
       "      <td>0</td>\n",
       "      <td>6</td>\n",
       "      <td>8014</td>\n",
       "      <td>39</td>\n",
       "      <td>...</td>\n",
       "      <td>0</td>\n",
       "      <td>1</td>\n",
       "      <td>0</td>\n",
       "      <td>0</td>\n",
       "      <td>2</td>\n",
       "      <td>0</td>\n",
       "      <td>1</td>\n",
       "      <td>0</td>\n",
       "      <td>0</td>\n",
       "      <td>1</td>\n",
       "    </tr>\n",
       "  </tbody>\n",
       "</table>\n",
       "<p>5 rows × 37 columns</p>\n",
       "</div>"
      ],
      "text/plain": [
       "   Curricular units 2nd sem (approved)  Curricular units 2nd sem (grade)  \\\n",
       "0                                    0                          0.000000   \n",
       "1                                    6                         13.666667   \n",
       "2                                    0                          0.000000   \n",
       "3                                    5                         12.400000   \n",
       "4                                    6                         13.000000   \n",
       "\n",
       "   Curricular units 1st sem (approved)  Tuition fees up to date  \\\n",
       "0                                    0                        1   \n",
       "1                                    6                        0   \n",
       "2                                    0                        0   \n",
       "3                                    6                        1   \n",
       "4                                    5                        1   \n",
       "\n",
       "   Curricular units 1st sem (grade)  Scholarship holder  Debtor  \\\n",
       "0                          0.000000                   0       0   \n",
       "1                         14.000000                   0       0   \n",
       "2                          0.000000                   0       0   \n",
       "3                         13.428571                   0       0   \n",
       "4                         12.333333                   0       0   \n",
       "\n",
       "   Curricular units 2nd sem (evaluations)  Course  Application mode  ...  \\\n",
       "0                                       0     171                17  ...   \n",
       "1                                       6    9254                15  ...   \n",
       "2                                       0    9070                 1  ...   \n",
       "3                                      10    9773                17  ...   \n",
       "4                                       6    8014                39  ...   \n",
       "\n",
       "   Curricular units 2nd sem (credited)  Previous qualification  \\\n",
       "0                                    0                       1   \n",
       "1                                    0                       1   \n",
       "2                                    0                       1   \n",
       "3                                    0                       1   \n",
       "4                                    0                       1   \n",
       "\n",
       "   Curricular units 1st sem (without evaluations)  \\\n",
       "0                                               0   \n",
       "1                                               0   \n",
       "2                                               0   \n",
       "3                                               0   \n",
       "4                                               0   \n",
       "\n",
       "   Curricular units 2nd sem (without evaluations)  Marital status  \\\n",
       "0                                               0               1   \n",
       "1                                               0               1   \n",
       "2                                               0               1   \n",
       "3                                               0               1   \n",
       "4                                               0               2   \n",
       "\n",
       "   Daytime/evening attendance\\t  Nationality  International  \\\n",
       "0                             1            1              0   \n",
       "1                             1            1              0   \n",
       "2                             1            1              0   \n",
       "3                             1            1              0   \n",
       "4                             0            1              0   \n",
       "\n",
       "   Educational special needs  Target  \n",
       "0                          0       0  \n",
       "1                          0       1  \n",
       "2                          0       0  \n",
       "3                          0       1  \n",
       "4                          0       1  \n",
       "\n",
       "[5 rows x 37 columns]"
      ]
     },
     "execution_count": 4,
     "metadata": {},
     "output_type": "execute_result"
    }
   ],
   "source": [
    "df_dec.head()"
   ]
  },
  {
   "cell_type": "markdown",
   "id": "4fe8bc98-eb07-413f-936b-28ea4b6f52f7",
   "metadata": {},
   "source": [
    "## MODELING"
   ]
  },
  {
   "cell_type": "markdown",
   "id": "8d749b4d-b242-4465-9e30-faa862dc46b0",
   "metadata": {},
   "source": [
    "### LOGISTIC REGRESSION"
   ]
  },
  {
   "cell_type": "code",
   "execution_count": 5,
   "id": "ac5f48b6-7462-4c3d-8181-3511e846bd90",
   "metadata": {},
   "outputs": [],
   "source": [
    "# split target variable\n",
    "X = df_log.drop(columns = 'Target')\n",
    "y = df_log['Target']"
   ]
  },
  {
   "cell_type": "code",
   "execution_count": 6,
   "id": "8425bfd6-5670-48cd-83e3-71e6d87fd995",
   "metadata": {},
   "outputs": [],
   "source": [
    "# train testsplit\n",
    "X_train, X_test, y_train, y_test = train_test_split(X,y, test_size = 0.2, random_state=0) # size test = 20%"
   ]
  },
  {
   "cell_type": "code",
   "execution_count": 7,
   "id": "15d1c3a1-6afc-4bbc-84c1-d6ee184f858c",
   "metadata": {},
   "outputs": [
    {
     "data": {
      "text/html": [
       "<style>#sk-container-id-1 {color: black;background-color: white;}#sk-container-id-1 pre{padding: 0;}#sk-container-id-1 div.sk-toggleable {background-color: white;}#sk-container-id-1 label.sk-toggleable__label {cursor: pointer;display: block;width: 100%;margin-bottom: 0;padding: 0.3em;box-sizing: border-box;text-align: center;}#sk-container-id-1 label.sk-toggleable__label-arrow:before {content: \"▸\";float: left;margin-right: 0.25em;color: #696969;}#sk-container-id-1 label.sk-toggleable__label-arrow:hover:before {color: black;}#sk-container-id-1 div.sk-estimator:hover label.sk-toggleable__label-arrow:before {color: black;}#sk-container-id-1 div.sk-toggleable__content {max-height: 0;max-width: 0;overflow: hidden;text-align: left;background-color: #f0f8ff;}#sk-container-id-1 div.sk-toggleable__content pre {margin: 0.2em;color: black;border-radius: 0.25em;background-color: #f0f8ff;}#sk-container-id-1 input.sk-toggleable__control:checked~div.sk-toggleable__content {max-height: 200px;max-width: 100%;overflow: auto;}#sk-container-id-1 input.sk-toggleable__control:checked~label.sk-toggleable__label-arrow:before {content: \"▾\";}#sk-container-id-1 div.sk-estimator input.sk-toggleable__control:checked~label.sk-toggleable__label {background-color: #d4ebff;}#sk-container-id-1 div.sk-label input.sk-toggleable__control:checked~label.sk-toggleable__label {background-color: #d4ebff;}#sk-container-id-1 input.sk-hidden--visually {border: 0;clip: rect(1px 1px 1px 1px);clip: rect(1px, 1px, 1px, 1px);height: 1px;margin: -1px;overflow: hidden;padding: 0;position: absolute;width: 1px;}#sk-container-id-1 div.sk-estimator {font-family: monospace;background-color: #f0f8ff;border: 1px dotted black;border-radius: 0.25em;box-sizing: border-box;margin-bottom: 0.5em;}#sk-container-id-1 div.sk-estimator:hover {background-color: #d4ebff;}#sk-container-id-1 div.sk-parallel-item::after {content: \"\";width: 100%;border-bottom: 1px solid gray;flex-grow: 1;}#sk-container-id-1 div.sk-label:hover label.sk-toggleable__label {background-color: #d4ebff;}#sk-container-id-1 div.sk-serial::before {content: \"\";position: absolute;border-left: 1px solid gray;box-sizing: border-box;top: 0;bottom: 0;left: 50%;z-index: 0;}#sk-container-id-1 div.sk-serial {display: flex;flex-direction: column;align-items: center;background-color: white;padding-right: 0.2em;padding-left: 0.2em;position: relative;}#sk-container-id-1 div.sk-item {position: relative;z-index: 1;}#sk-container-id-1 div.sk-parallel {display: flex;align-items: stretch;justify-content: center;background-color: white;position: relative;}#sk-container-id-1 div.sk-item::before, #sk-container-id-1 div.sk-parallel-item::before {content: \"\";position: absolute;border-left: 1px solid gray;box-sizing: border-box;top: 0;bottom: 0;left: 50%;z-index: -1;}#sk-container-id-1 div.sk-parallel-item {display: flex;flex-direction: column;z-index: 1;position: relative;background-color: white;}#sk-container-id-1 div.sk-parallel-item:first-child::after {align-self: flex-end;width: 50%;}#sk-container-id-1 div.sk-parallel-item:last-child::after {align-self: flex-start;width: 50%;}#sk-container-id-1 div.sk-parallel-item:only-child::after {width: 0;}#sk-container-id-1 div.sk-dashed-wrapped {border: 1px dashed gray;margin: 0 0.4em 0.5em 0.4em;box-sizing: border-box;padding-bottom: 0.4em;background-color: white;}#sk-container-id-1 div.sk-label label {font-family: monospace;font-weight: bold;display: inline-block;line-height: 1.2em;}#sk-container-id-1 div.sk-label-container {text-align: center;}#sk-container-id-1 div.sk-container {/* jupyter's `normalize.less` sets `[hidden] { display: none; }` but bootstrap.min.css set `[hidden] { display: none !important; }` so we also need the `!important` here to be able to override the default hidden behavior on the sphinx rendered scikit-learn.org. See: https://github.com/scikit-learn/scikit-learn/issues/21755 */display: inline-block !important;position: relative;}#sk-container-id-1 div.sk-text-repr-fallback {display: none;}</style><div id=\"sk-container-id-1\" class=\"sk-top-container\"><div class=\"sk-text-repr-fallback\"><pre>LogisticRegression()</pre><b>In a Jupyter environment, please rerun this cell to show the HTML representation or trust the notebook. <br />On GitHub, the HTML representation is unable to render, please try loading this page with nbviewer.org.</b></div><div class=\"sk-container\" hidden><div class=\"sk-item\"><div class=\"sk-estimator sk-toggleable\"><input class=\"sk-toggleable__control sk-hidden--visually\" id=\"sk-estimator-id-1\" type=\"checkbox\" checked><label for=\"sk-estimator-id-1\" class=\"sk-toggleable__label sk-toggleable__label-arrow\">LogisticRegression</label><div class=\"sk-toggleable__content\"><pre>LogisticRegression()</pre></div></div></div></div></div>"
      ],
      "text/plain": [
       "LogisticRegression()"
      ]
     },
     "execution_count": 7,
     "metadata": {},
     "output_type": "execute_result"
    }
   ],
   "source": [
    "# model train dan fitting\n",
    "model = LogisticRegression()\n",
    "model.fit(X_train, y_train)"
   ]
  },
  {
   "cell_type": "code",
   "execution_count": 8,
   "id": "1959ed84-250c-446c-946b-dd973345a9b4",
   "metadata": {},
   "outputs": [],
   "source": [
    "# buat ypredict\n",
    "y_pred = model.predict(X_test)"
   ]
  },
  {
   "cell_type": "code",
   "execution_count": 9,
   "id": "0696bc2e-3d08-44f4-ae52-682e3107fe6b",
   "metadata": {},
   "outputs": [],
   "source": [
    "# buat df untuk store hasil actual vs pred\n",
    "result = pd.DataFrame()\n",
    "result[\"y_act\"] = y_test\n",
    "result[\"y_pred\"] = y_pred"
   ]
  },
  {
   "cell_type": "code",
   "execution_count": 10,
   "id": "2e2bcf70-5931-4c03-b330-ab3538a35af1",
   "metadata": {},
   "outputs": [],
   "source": [
    "#concat result\n",
    "result = pd.concat([X_test, result], axis = 1)"
   ]
  },
  {
   "cell_type": "code",
   "execution_count": 11,
   "id": "7a1ade1b-c180-41ec-a751-a44e630d8676",
   "metadata": {},
   "outputs": [
    {
     "data": {
      "text/html": [
       "<div>\n",
       "<style scoped>\n",
       "    .dataframe tbody tr th:only-of-type {\n",
       "        vertical-align: middle;\n",
       "    }\n",
       "\n",
       "    .dataframe tbody tr th {\n",
       "        vertical-align: top;\n",
       "    }\n",
       "\n",
       "    .dataframe thead th {\n",
       "        text-align: right;\n",
       "    }\n",
       "</style>\n",
       "<table border=\"1\" class=\"dataframe\">\n",
       "  <thead>\n",
       "    <tr style=\"text-align: right;\">\n",
       "      <th></th>\n",
       "      <th>Curricular units 2nd sem (approved)</th>\n",
       "      <th>Curricular units 2nd sem (grade)</th>\n",
       "      <th>Curricular units 1st sem (approved)</th>\n",
       "      <th>Tuition fees up to date</th>\n",
       "      <th>Curricular units 1st sem (grade)</th>\n",
       "      <th>Scholarship holder</th>\n",
       "      <th>Debtor</th>\n",
       "      <th>Curricular units 2nd sem (evaluations)</th>\n",
       "      <th>Course</th>\n",
       "      <th>Application mode</th>\n",
       "      <th>...</th>\n",
       "      <th>Previous qualification</th>\n",
       "      <th>Curricular units 1st sem (without evaluations)</th>\n",
       "      <th>Curricular units 2nd sem (without evaluations)</th>\n",
       "      <th>Marital status</th>\n",
       "      <th>Daytime/evening attendance\\t</th>\n",
       "      <th>Nationality</th>\n",
       "      <th>International</th>\n",
       "      <th>Educational special needs</th>\n",
       "      <th>y_act</th>\n",
       "      <th>y_pred</th>\n",
       "    </tr>\n",
       "  </thead>\n",
       "  <tbody>\n",
       "    <tr>\n",
       "      <th>304</th>\n",
       "      <td>6</td>\n",
       "      <td>15.750000</td>\n",
       "      <td>6</td>\n",
       "      <td>1</td>\n",
       "      <td>16.153846</td>\n",
       "      <td>1</td>\n",
       "      <td>0</td>\n",
       "      <td>10</td>\n",
       "      <td>9085</td>\n",
       "      <td>1</td>\n",
       "      <td>...</td>\n",
       "      <td>1</td>\n",
       "      <td>0</td>\n",
       "      <td>0</td>\n",
       "      <td>1</td>\n",
       "      <td>1</td>\n",
       "      <td>1</td>\n",
       "      <td>0</td>\n",
       "      <td>0</td>\n",
       "      <td>1</td>\n",
       "      <td>1</td>\n",
       "    </tr>\n",
       "    <tr>\n",
       "      <th>88</th>\n",
       "      <td>5</td>\n",
       "      <td>12.800000</td>\n",
       "      <td>5</td>\n",
       "      <td>1</td>\n",
       "      <td>13.400000</td>\n",
       "      <td>0</td>\n",
       "      <td>0</td>\n",
       "      <td>5</td>\n",
       "      <td>9085</td>\n",
       "      <td>1</td>\n",
       "      <td>...</td>\n",
       "      <td>1</td>\n",
       "      <td>0</td>\n",
       "      <td>0</td>\n",
       "      <td>1</td>\n",
       "      <td>1</td>\n",
       "      <td>1</td>\n",
       "      <td>0</td>\n",
       "      <td>0</td>\n",
       "      <td>1</td>\n",
       "      <td>1</td>\n",
       "    </tr>\n",
       "    <tr>\n",
       "      <th>1239</th>\n",
       "      <td>2</td>\n",
       "      <td>10.500000</td>\n",
       "      <td>4</td>\n",
       "      <td>1</td>\n",
       "      <td>10.750000</td>\n",
       "      <td>0</td>\n",
       "      <td>0</td>\n",
       "      <td>12</td>\n",
       "      <td>9130</td>\n",
       "      <td>44</td>\n",
       "      <td>...</td>\n",
       "      <td>39</td>\n",
       "      <td>0</td>\n",
       "      <td>0</td>\n",
       "      <td>1</td>\n",
       "      <td>1</td>\n",
       "      <td>1</td>\n",
       "      <td>0</td>\n",
       "      <td>0</td>\n",
       "      <td>0</td>\n",
       "      <td>0</td>\n",
       "    </tr>\n",
       "    <tr>\n",
       "      <th>905</th>\n",
       "      <td>6</td>\n",
       "      <td>13.666667</td>\n",
       "      <td>6</td>\n",
       "      <td>1</td>\n",
       "      <td>13.666667</td>\n",
       "      <td>1</td>\n",
       "      <td>0</td>\n",
       "      <td>9</td>\n",
       "      <td>9670</td>\n",
       "      <td>17</td>\n",
       "      <td>...</td>\n",
       "      <td>1</td>\n",
       "      <td>0</td>\n",
       "      <td>0</td>\n",
       "      <td>1</td>\n",
       "      <td>1</td>\n",
       "      <td>1</td>\n",
       "      <td>0</td>\n",
       "      <td>0</td>\n",
       "      <td>1</td>\n",
       "      <td>1</td>\n",
       "    </tr>\n",
       "    <tr>\n",
       "      <th>3499</th>\n",
       "      <td>6</td>\n",
       "      <td>12.428571</td>\n",
       "      <td>6</td>\n",
       "      <td>1</td>\n",
       "      <td>13.166667</td>\n",
       "      <td>0</td>\n",
       "      <td>0</td>\n",
       "      <td>8</td>\n",
       "      <td>9773</td>\n",
       "      <td>17</td>\n",
       "      <td>...</td>\n",
       "      <td>1</td>\n",
       "      <td>0</td>\n",
       "      <td>0</td>\n",
       "      <td>1</td>\n",
       "      <td>1</td>\n",
       "      <td>1</td>\n",
       "      <td>0</td>\n",
       "      <td>0</td>\n",
       "      <td>1</td>\n",
       "      <td>1</td>\n",
       "    </tr>\n",
       "  </tbody>\n",
       "</table>\n",
       "<p>5 rows × 38 columns</p>\n",
       "</div>"
      ],
      "text/plain": [
       "      Curricular units 2nd sem (approved)  Curricular units 2nd sem (grade)  \\\n",
       "304                                     6                         15.750000   \n",
       "88                                      5                         12.800000   \n",
       "1239                                    2                         10.500000   \n",
       "905                                     6                         13.666667   \n",
       "3499                                    6                         12.428571   \n",
       "\n",
       "      Curricular units 1st sem (approved)  Tuition fees up to date  \\\n",
       "304                                     6                        1   \n",
       "88                                      5                        1   \n",
       "1239                                    4                        1   \n",
       "905                                     6                        1   \n",
       "3499                                    6                        1   \n",
       "\n",
       "      Curricular units 1st sem (grade)  Scholarship holder  Debtor  \\\n",
       "304                          16.153846                   1       0   \n",
       "88                           13.400000                   0       0   \n",
       "1239                         10.750000                   0       0   \n",
       "905                          13.666667                   1       0   \n",
       "3499                         13.166667                   0       0   \n",
       "\n",
       "      Curricular units 2nd sem (evaluations)  Course  Application mode  ...  \\\n",
       "304                                       10    9085                 1  ...   \n",
       "88                                         5    9085                 1  ...   \n",
       "1239                                      12    9130                44  ...   \n",
       "905                                        9    9670                17  ...   \n",
       "3499                                       8    9773                17  ...   \n",
       "\n",
       "      Previous qualification  Curricular units 1st sem (without evaluations)  \\\n",
       "304                        1                                               0   \n",
       "88                         1                                               0   \n",
       "1239                      39                                               0   \n",
       "905                        1                                               0   \n",
       "3499                       1                                               0   \n",
       "\n",
       "      Curricular units 2nd sem (without evaluations)  Marital status  \\\n",
       "304                                                0               1   \n",
       "88                                                 0               1   \n",
       "1239                                               0               1   \n",
       "905                                                0               1   \n",
       "3499                                               0               1   \n",
       "\n",
       "      Daytime/evening attendance\\t  Nationality  International  \\\n",
       "304                              1            1              0   \n",
       "88                               1            1              0   \n",
       "1239                             1            1              0   \n",
       "905                              1            1              0   \n",
       "3499                             1            1              0   \n",
       "\n",
       "      Educational special needs  y_act  y_pred  \n",
       "304                           0      1       1  \n",
       "88                            0      1       1  \n",
       "1239                          0      0       0  \n",
       "905                           0      1       1  \n",
       "3499                          0      1       1  \n",
       "\n",
       "[5 rows x 38 columns]"
      ]
     },
     "execution_count": 11,
     "metadata": {},
     "output_type": "execute_result"
    }
   ],
   "source": [
    "#cek hasil\n",
    "result.head()"
   ]
  },
  {
   "cell_type": "markdown",
   "id": "9a43ccf0-cb85-4253-a526-d944379c9087",
   "metadata": {
    "toc-hr-collapsed": true
   },
   "source": [
    "#### CONFUSION MATRIX"
   ]
  },
  {
   "cell_type": "code",
   "execution_count": 12,
   "id": "d5336b64-ec2c-4dd1-b6bb-b57979218b18",
   "metadata": {},
   "outputs": [
    {
     "name": "stdout",
     "output_type": "stream",
     "text": [
      "[[221  75]\n",
      " [ 29 401]]\n"
     ]
    }
   ],
   "source": [
    "# confusion matrix\n",
    "print(confusion_matrix(y_test, y_pred))"
   ]
  },
  {
   "cell_type": "code",
   "execution_count": 13,
   "id": "676748d1-415e-4dad-8cf9-2b4bf8428b61",
   "metadata": {},
   "outputs": [
    {
     "data": {
      "image/png": "[encoded data removed]",
      "text/plain": [
       "<Figure size 432x288 with 2 Axes>"
      ]
     },
     "metadata": {
      "needs_background": "light"
     },
     "output_type": "display_data"
    }
   ],
   "source": [
    "# plot confusion matrix\n",
    "sns.heatmap(confusion_matrix(y_test, y_pred), annot = True, fmt = \".0f\")\n",
    "plt.xlabel(\"Prediction\")\n",
    "plt.ylabel(\"Actual\")\n",
    "plt.show()"
   ]
  },
  {
   "cell_type": "code",
   "execution_count": 14,
   "id": "ef941028-3f6c-4705-97ed-a07e536646df",
   "metadata": {},
   "outputs": [
    {
     "name": "stdout",
     "output_type": "stream",
     "text": [
      "              precision    recall  f1-score   support\n",
      "\n",
      "           0       0.88      0.75      0.81       296\n",
      "           1       0.84      0.93      0.89       430\n",
      "\n",
      "    accuracy                           0.86       726\n",
      "   macro avg       0.86      0.84      0.85       726\n",
      "weighted avg       0.86      0.86      0.85       726\n",
      "\n"
     ]
    }
   ],
   "source": [
    "# classification report\n",
    "print(classification_report(y_test, y_pred))"
   ]
  },
  {
   "cell_type": "markdown",
   "id": "305d7771-e375-4745-bca5-b2ccd941a4dc",
   "metadata": {},
   "source": [
    "#### CV SCORE"
   ]
  },
  {
   "cell_type": "code",
   "execution_count": 15,
   "id": "27f5151e-8c64-4b44-819b-b155ece05206",
   "metadata": {},
   "outputs": [],
   "source": [
    "# fungsi untuk cv score\n",
    "def cv_score(model, data_x, data_y, scoring, n):\n",
    "    cv = KFold(n_splits=n, shuffle=False)\n",
    "    scores_train = cross_val_score(model, data_x, data_y, scoring=scoring, cv=cv)\n",
    "    scores_test = cross_validate(model, data_x, data_y, cv=n)\n",
    "    \n",
    "    return scores_train.mean(), scores_test[\"test_score\"].mean()"
   ]
  },
  {
   "cell_type": "code",
   "execution_count": 16,
   "id": "86ec1735-b562-48ba-9509-84e81b135ce0",
   "metadata": {},
   "outputs": [
    {
     "name": "stdout",
     "output_type": "stream",
     "text": [
      "CV Accuracy : (0.8567434269096088, 0.8663932577601046)\n"
     ]
    }
   ],
   "source": [
    "print(\"CV Accuracy :\", cv_score(model, X_train, y_train, \"accuracy\",5))"
   ]
  },
  {
   "cell_type": "markdown",
   "id": "0bdc8b9b-2983-4263-b0e8-8a0d54f9c854",
   "metadata": {},
   "source": [
    "### DECISION TREE"
   ]
  },
  {
   "cell_type": "code",
   "execution_count": 17,
   "id": "c68bfeb3-d899-4d09-a0e1-5f303eb1426d",
   "metadata": {},
   "outputs": [],
   "source": [
    "# split target variable\n",
    "X = df_dec.drop(columns = 'Target')\n",
    "y = df_dec['Target']"
   ]
  },
  {
   "cell_type": "code",
   "execution_count": 18,
   "id": "113fa840-a8c9-4f49-b112-afcb00ddc420",
   "metadata": {},
   "outputs": [],
   "source": [
    "# train testsplit\n",
    "X_train, X_test, y_train, y_test = train_test_split(X,y, test_size = 0.2, random_state=0) # size test = 20%"
   ]
  },
  {
   "cell_type": "code",
   "execution_count": 19,
   "id": "98fe0c14-4612-4093-b1e9-56fa68988d1d",
   "metadata": {},
   "outputs": [
    {
     "data": {
      "text/html": [
       "<style>#sk-container-id-2 {color: black;background-color: white;}#sk-container-id-2 pre{padding: 0;}#sk-container-id-2 div.sk-toggleable {background-color: white;}#sk-container-id-2 label.sk-toggleable__label {cursor: pointer;display: block;width: 100%;margin-bottom: 0;padding: 0.3em;box-sizing: border-box;text-align: center;}#sk-container-id-2 label.sk-toggleable__label-arrow:before {content: \"▸\";float: left;margin-right: 0.25em;color: #696969;}#sk-container-id-2 label.sk-toggleable__label-arrow:hover:before {color: black;}#sk-container-id-2 div.sk-estimator:hover label.sk-toggleable__label-arrow:before {color: black;}#sk-container-id-2 div.sk-toggleable__content {max-height: 0;max-width: 0;overflow: hidden;text-align: left;background-color: #f0f8ff;}#sk-container-id-2 div.sk-toggleable__content pre {margin: 0.2em;color: black;border-radius: 0.25em;background-color: #f0f8ff;}#sk-container-id-2 input.sk-toggleable__control:checked~div.sk-toggleable__content {max-height: 200px;max-width: 100%;overflow: auto;}#sk-container-id-2 input.sk-toggleable__control:checked~label.sk-toggleable__label-arrow:before {content: \"▾\";}#sk-container-id-2 div.sk-estimator input.sk-toggleable__control:checked~label.sk-toggleable__label {background-color: #d4ebff;}#sk-container-id-2 div.sk-label input.sk-toggleable__control:checked~label.sk-toggleable__label {background-color: #d4ebff;}#sk-container-id-2 input.sk-hidden--visually {border: 0;clip: rect(1px 1px 1px 1px);clip: rect(1px, 1px, 1px, 1px);height: 1px;margin: -1px;overflow: hidden;padding: 0;position: absolute;width: 1px;}#sk-container-id-2 div.sk-estimator {font-family: monospace;background-color: #f0f8ff;border: 1px dotted black;border-radius: 0.25em;box-sizing: border-box;margin-bottom: 0.5em;}#sk-container-id-2 div.sk-estimator:hover {background-color: #d4ebff;}#sk-container-id-2 div.sk-parallel-item::after {content: \"\";width: 100%;border-bottom: 1px solid gray;flex-grow: 1;}#sk-container-id-2 div.sk-label:hover label.sk-toggleable__label {background-color: #d4ebff;}#sk-container-id-2 div.sk-serial::before {content: \"\";position: absolute;border-left: 1px solid gray;box-sizing: border-box;top: 0;bottom: 0;left: 50%;z-index: 0;}#sk-container-id-2 div.sk-serial {display: flex;flex-direction: column;align-items: center;background-color: white;padding-right: 0.2em;padding-left: 0.2em;position: relative;}#sk-container-id-2 div.sk-item {position: relative;z-index: 1;}#sk-container-id-2 div.sk-parallel {display: flex;align-items: stretch;justify-content: center;background-color: white;position: relative;}#sk-container-id-2 div.sk-item::before, #sk-container-id-2 div.sk-parallel-item::before {content: \"\";position: absolute;border-left: 1px solid gray;box-sizing: border-box;top: 0;bottom: 0;left: 50%;z-index: -1;}#sk-container-id-2 div.sk-parallel-item {display: flex;flex-direction: column;z-index: 1;position: relative;background-color: white;}#sk-container-id-2 div.sk-parallel-item:first-child::after {align-self: flex-end;width: 50%;}#sk-container-id-2 div.sk-parallel-item:last-child::after {align-self: flex-start;width: 50%;}#sk-container-id-2 div.sk-parallel-item:only-child::after {width: 0;}#sk-container-id-2 div.sk-dashed-wrapped {border: 1px dashed gray;margin: 0 0.4em 0.5em 0.4em;box-sizing: border-box;padding-bottom: 0.4em;background-color: white;}#sk-container-id-2 div.sk-label label {font-family: monospace;font-weight: bold;display: inline-block;line-height: 1.2em;}#sk-container-id-2 div.sk-label-container {text-align: center;}#sk-container-id-2 div.sk-container {/* jupyter's `normalize.less` sets `[hidden] { display: none; }` but bootstrap.min.css set `[hidden] { display: none !important; }` so we also need the `!important` here to be able to override the default hidden behavior on the sphinx rendered scikit-learn.org. See: https://github.com/scikit-learn/scikit-learn/issues/21755 */display: inline-block !important;position: relative;}#sk-container-id-2 div.sk-text-repr-fallback {display: none;}</style><div id=\"sk-container-id-2\" class=\"sk-top-container\"><div class=\"sk-text-repr-fallback\"><pre>DecisionTreeClassifier()</pre><b>In a Jupyter environment, please rerun this cell to show the HTML representation or trust the notebook. <br />On GitHub, the HTML representation is unable to render, please try loading this page with nbviewer.org.</b></div><div class=\"sk-container\" hidden><div class=\"sk-item\"><div class=\"sk-estimator sk-toggleable\"><input class=\"sk-toggleable__control sk-hidden--visually\" id=\"sk-estimator-id-2\" type=\"checkbox\" checked><label for=\"sk-estimator-id-2\" class=\"sk-toggleable__label sk-toggleable__label-arrow\">DecisionTreeClassifier</label><div class=\"sk-toggleable__content\"><pre>DecisionTreeClassifier()</pre></div></div></div></div></div>"
      ],
      "text/plain": [
       "DecisionTreeClassifier()"
      ]
     },
     "execution_count": 19,
     "metadata": {},
     "output_type": "execute_result"
    }
   ],
   "source": [
    "# model train dan fitting\n",
    "model = DecisionTreeClassifier()\n",
    "model.fit(X_train, y_train)"
   ]
  },
  {
   "cell_type": "code",
   "execution_count": 20,
   "id": "7a105e20-c695-4668-9eed-4714502e864e",
   "metadata": {},
   "outputs": [],
   "source": [
    "# buat ypredict\n",
    "y_pred = model.predict(X_test)"
   ]
  },
  {
   "cell_type": "code",
   "execution_count": 21,
   "id": "15c0afe6-ca3c-432e-94de-4b6b863faaba",
   "metadata": {},
   "outputs": [],
   "source": [
    "# buat df untuk store hasil actual vs pred\n",
    "result = pd.DataFrame()\n",
    "result[\"y_act\"] = y_test\n",
    "result[\"y_pred\"] = y_pred"
   ]
  },
  {
   "cell_type": "code",
   "execution_count": 22,
   "id": "e9e0edfd-0cee-4be7-a3c3-cd7755e6e553",
   "metadata": {},
   "outputs": [],
   "source": [
    "#concat result\n",
    "result = pd.concat([X_test, result], axis = 1)"
   ]
  },
  {
   "cell_type": "code",
   "execution_count": 23,
   "id": "02db45fd-374b-47ca-9dc0-26de313030a9",
   "metadata": {},
   "outputs": [
    {
     "data": {
      "text/html": [
       "<div>\n",
       "<style scoped>\n",
       "    .dataframe tbody tr th:only-of-type {\n",
       "        vertical-align: middle;\n",
       "    }\n",
       "\n",
       "    .dataframe tbody tr th {\n",
       "        vertical-align: top;\n",
       "    }\n",
       "\n",
       "    .dataframe thead th {\n",
       "        text-align: right;\n",
       "    }\n",
       "</style>\n",
       "<table border=\"1\" class=\"dataframe\">\n",
       "  <thead>\n",
       "    <tr style=\"text-align: right;\">\n",
       "      <th></th>\n",
       "      <th>Curricular units 2nd sem (approved)</th>\n",
       "      <th>Curricular units 2nd sem (grade)</th>\n",
       "      <th>Curricular units 1st sem (approved)</th>\n",
       "      <th>Tuition fees up to date</th>\n",
       "      <th>Curricular units 1st sem (grade)</th>\n",
       "      <th>Scholarship holder</th>\n",
       "      <th>Debtor</th>\n",
       "      <th>Curricular units 2nd sem (evaluations)</th>\n",
       "      <th>Course</th>\n",
       "      <th>Application mode</th>\n",
       "      <th>...</th>\n",
       "      <th>Previous qualification</th>\n",
       "      <th>Curricular units 1st sem (without evaluations)</th>\n",
       "      <th>Curricular units 2nd sem (without evaluations)</th>\n",
       "      <th>Marital status</th>\n",
       "      <th>Daytime/evening attendance\\t</th>\n",
       "      <th>Nationality</th>\n",
       "      <th>International</th>\n",
       "      <th>Educational special needs</th>\n",
       "      <th>y_act</th>\n",
       "      <th>y_pred</th>\n",
       "    </tr>\n",
       "  </thead>\n",
       "  <tbody>\n",
       "    <tr>\n",
       "      <th>304</th>\n",
       "      <td>6</td>\n",
       "      <td>15.750000</td>\n",
       "      <td>6</td>\n",
       "      <td>1</td>\n",
       "      <td>16.153846</td>\n",
       "      <td>1</td>\n",
       "      <td>0</td>\n",
       "      <td>10</td>\n",
       "      <td>9085</td>\n",
       "      <td>1</td>\n",
       "      <td>...</td>\n",
       "      <td>1</td>\n",
       "      <td>0</td>\n",
       "      <td>0</td>\n",
       "      <td>1</td>\n",
       "      <td>1</td>\n",
       "      <td>1</td>\n",
       "      <td>0</td>\n",
       "      <td>0</td>\n",
       "      <td>1</td>\n",
       "      <td>1</td>\n",
       "    </tr>\n",
       "    <tr>\n",
       "      <th>88</th>\n",
       "      <td>5</td>\n",
       "      <td>12.800000</td>\n",
       "      <td>5</td>\n",
       "      <td>1</td>\n",
       "      <td>13.400000</td>\n",
       "      <td>0</td>\n",
       "      <td>0</td>\n",
       "      <td>5</td>\n",
       "      <td>9085</td>\n",
       "      <td>1</td>\n",
       "      <td>...</td>\n",
       "      <td>1</td>\n",
       "      <td>0</td>\n",
       "      <td>0</td>\n",
       "      <td>1</td>\n",
       "      <td>1</td>\n",
       "      <td>1</td>\n",
       "      <td>0</td>\n",
       "      <td>0</td>\n",
       "      <td>1</td>\n",
       "      <td>1</td>\n",
       "    </tr>\n",
       "    <tr>\n",
       "      <th>1239</th>\n",
       "      <td>2</td>\n",
       "      <td>10.500000</td>\n",
       "      <td>4</td>\n",
       "      <td>1</td>\n",
       "      <td>10.750000</td>\n",
       "      <td>0</td>\n",
       "      <td>0</td>\n",
       "      <td>12</td>\n",
       "      <td>9130</td>\n",
       "      <td>44</td>\n",
       "      <td>...</td>\n",
       "      <td>39</td>\n",
       "      <td>0</td>\n",
       "      <td>0</td>\n",
       "      <td>1</td>\n",
       "      <td>1</td>\n",
       "      <td>1</td>\n",
       "      <td>0</td>\n",
       "      <td>0</td>\n",
       "      <td>0</td>\n",
       "      <td>0</td>\n",
       "    </tr>\n",
       "    <tr>\n",
       "      <th>905</th>\n",
       "      <td>6</td>\n",
       "      <td>13.666667</td>\n",
       "      <td>6</td>\n",
       "      <td>1</td>\n",
       "      <td>13.666667</td>\n",
       "      <td>1</td>\n",
       "      <td>0</td>\n",
       "      <td>9</td>\n",
       "      <td>9670</td>\n",
       "      <td>17</td>\n",
       "      <td>...</td>\n",
       "      <td>1</td>\n",
       "      <td>0</td>\n",
       "      <td>0</td>\n",
       "      <td>1</td>\n",
       "      <td>1</td>\n",
       "      <td>1</td>\n",
       "      <td>0</td>\n",
       "      <td>0</td>\n",
       "      <td>1</td>\n",
       "      <td>1</td>\n",
       "    </tr>\n",
       "    <tr>\n",
       "      <th>3499</th>\n",
       "      <td>6</td>\n",
       "      <td>12.428571</td>\n",
       "      <td>6</td>\n",
       "      <td>1</td>\n",
       "      <td>13.166667</td>\n",
       "      <td>0</td>\n",
       "      <td>0</td>\n",
       "      <td>8</td>\n",
       "      <td>9773</td>\n",
       "      <td>17</td>\n",
       "      <td>...</td>\n",
       "      <td>1</td>\n",
       "      <td>0</td>\n",
       "      <td>0</td>\n",
       "      <td>1</td>\n",
       "      <td>1</td>\n",
       "      <td>1</td>\n",
       "      <td>0</td>\n",
       "      <td>0</td>\n",
       "      <td>1</td>\n",
       "      <td>1</td>\n",
       "    </tr>\n",
       "  </tbody>\n",
       "</table>\n",
       "<p>5 rows × 38 columns</p>\n",
       "</div>"
      ],
      "text/plain": [
       "      Curricular units 2nd sem (approved)  Curricular units 2nd sem (grade)  \\\n",
       "304                                     6                         15.750000   \n",
       "88                                      5                         12.800000   \n",
       "1239                                    2                         10.500000   \n",
       "905                                     6                         13.666667   \n",
       "3499                                    6                         12.428571   \n",
       "\n",
       "      Curricular units 1st sem (approved)  Tuition fees up to date  \\\n",
       "304                                     6                        1   \n",
       "88                                      5                        1   \n",
       "1239                                    4                        1   \n",
       "905                                     6                        1   \n",
       "3499                                    6                        1   \n",
       "\n",
       "      Curricular units 1st sem (grade)  Scholarship holder  Debtor  \\\n",
       "304                          16.153846                   1       0   \n",
       "88                           13.400000                   0       0   \n",
       "1239                         10.750000                   0       0   \n",
       "905                          13.666667                   1       0   \n",
       "3499                         13.166667                   0       0   \n",
       "\n",
       "      Curricular units 2nd sem (evaluations)  Course  Application mode  ...  \\\n",
       "304                                       10    9085                 1  ...   \n",
       "88                                         5    9085                 1  ...   \n",
       "1239                                      12    9130                44  ...   \n",
       "905                                        9    9670                17  ...   \n",
       "3499                                       8    9773                17  ...   \n",
       "\n",
       "      Previous qualification  Curricular units 1st sem (without evaluations)  \\\n",
       "304                        1                                               0   \n",
       "88                         1                                               0   \n",
       "1239                      39                                               0   \n",
       "905                        1                                               0   \n",
       "3499                       1                                               0   \n",
       "\n",
       "      Curricular units 2nd sem (without evaluations)  Marital status  \\\n",
       "304                                                0               1   \n",
       "88                                                 0               1   \n",
       "1239                                               0               1   \n",
       "905                                                0               1   \n",
       "3499                                               0               1   \n",
       "\n",
       "      Daytime/evening attendance\\t  Nationality  International  \\\n",
       "304                              1            1              0   \n",
       "88                               1            1              0   \n",
       "1239                             1            1              0   \n",
       "905                              1            1              0   \n",
       "3499                             1            1              0   \n",
       "\n",
       "      Educational special needs  y_act  y_pred  \n",
       "304                           0      1       1  \n",
       "88                            0      1       1  \n",
       "1239                          0      0       0  \n",
       "905                           0      1       1  \n",
       "3499                          0      1       1  \n",
       "\n",
       "[5 rows x 38 columns]"
      ]
     },
     "execution_count": 23,
     "metadata": {},
     "output_type": "execute_result"
    }
   ],
   "source": [
    "#cek hasil\n",
    "result.head()"
   ]
  },
  {
   "cell_type": "markdown",
   "id": "9d160b9b-c4f3-437d-99bb-7414007ef432",
   "metadata": {
    "toc-hr-collapsed": true
   },
   "source": [
    "#### CONFUSION MATRIX"
   ]
  },
  {
   "cell_type": "code",
   "execution_count": 24,
   "id": "3f9eb8f1-3b88-44ff-af0c-c4a2e6e7c8f1",
   "metadata": {},
   "outputs": [
    {
     "name": "stdout",
     "output_type": "stream",
     "text": [
      "[[240  56]\n",
      " [ 65 365]]\n"
     ]
    }
   ],
   "source": [
    "# confusion matrix\n",
    "print(confusion_matrix(y_test, y_pred))"
   ]
  },
  {
   "cell_type": "code",
   "execution_count": 25,
   "id": "a08cf699-2c5f-4141-9a6e-16437be034a4",
   "metadata": {},
   "outputs": [
    {
     "data": {
      "image/png": "[encoded data removed]",
      "text/plain": [
       "<Figure size 432x288 with 2 Axes>"
      ]
     },
     "metadata": {
      "needs_background": "light"
     },
     "output_type": "display_data"
    }
   ],
   "source": [
    "# plot confusion matrix\n",
    "sns.heatmap(confusion_matrix(y_test, y_pred), annot = True, fmt = \".0f\")\n",
    "plt.xlabel(\"Prediction\")\n",
    "plt.ylabel(\"Actual\")\n",
    "plt.show()"
   ]
  },
  {
   "cell_type": "code",
   "execution_count": 26,
   "id": "e2eb610d-1c10-4a81-9d74-cb3604b7a9f9",
   "metadata": {},
   "outputs": [
    {
     "name": "stdout",
     "output_type": "stream",
     "text": [
      "              precision    recall  f1-score   support\n",
      "\n",
      "           0       0.79      0.81      0.80       296\n",
      "           1       0.87      0.85      0.86       430\n",
      "\n",
      "    accuracy                           0.83       726\n",
      "   macro avg       0.83      0.83      0.83       726\n",
      "weighted avg       0.83      0.83      0.83       726\n",
      "\n"
     ]
    }
   ],
   "source": [
    "# classification report\n",
    "print(classification_report(y_test, y_pred))"
   ]
  },
  {
   "cell_type": "markdown",
   "id": "580ec5ac-31e4-4c80-a9c9-53495f03038d",
   "metadata": {},
   "source": [
    "#### CV SCORE"
   ]
  },
  {
   "cell_type": "code",
   "execution_count": 27,
   "id": "b2edac51-19ec-48c7-9481-f8acf5de5ffd",
   "metadata": {},
   "outputs": [
    {
     "name": "stdout",
     "output_type": "stream",
     "text": [
      "CV Accuracy : (0.8581292658318, 0.8553771737195086)\n"
     ]
    }
   ],
   "source": [
    "print(\"CV Accuracy :\", cv_score(model, X_train, y_train, \"accuracy\",5))"
   ]
  },
  {
   "cell_type": "markdown",
   "id": "569e027c-b058-45c1-89c3-3a938b134d37",
   "metadata": {},
   "source": [
    "### GRADIENTBOOSTINGCLASSIFIER"
   ]
  },
  {
   "cell_type": "code",
   "execution_count": 28,
   "id": "947b2e3a-284f-4b00-87ad-05e1cb4327dd",
   "metadata": {},
   "outputs": [],
   "source": [
    "# split target variable\n",
    "X = df_dec.drop(columns = 'Target')\n",
    "y = df_dec['Target']"
   ]
  },
  {
   "cell_type": "code",
   "execution_count": 29,
   "id": "f5e32c7d-e3d9-4153-8f3c-6f6d47b3df80",
   "metadata": {},
   "outputs": [],
   "source": [
    "# train testsplit\n",
    "X_train, X_test, y_train, y_test = train_test_split(X,y, test_size = 0.2, random_state=0) # size test = 20%"
   ]
  },
  {
   "cell_type": "code",
   "execution_count": 30,
   "id": "cab857c6-481e-45df-acf0-aff970fc64b4",
   "metadata": {},
   "outputs": [
    {
     "data": {
      "text/html": [
       "<style>#sk-container-id-3 {color: black;background-color: white;}#sk-container-id-3 pre{padding: 0;}#sk-container-id-3 div.sk-toggleable {background-color: white;}#sk-container-id-3 label.sk-toggleable__label {cursor: pointer;display: block;width: 100%;margin-bottom: 0;padding: 0.3em;box-sizing: border-box;text-align: center;}#sk-container-id-3 label.sk-toggleable__label-arrow:before {content: \"▸\";float: left;margin-right: 0.25em;color: #696969;}#sk-container-id-3 label.sk-toggleable__label-arrow:hover:before {color: black;}#sk-container-id-3 div.sk-estimator:hover label.sk-toggleable__label-arrow:before {color: black;}#sk-container-id-3 div.sk-toggleable__content {max-height: 0;max-width: 0;overflow: hidden;text-align: left;background-color: #f0f8ff;}#sk-container-id-3 div.sk-toggleable__content pre {margin: 0.2em;color: black;border-radius: 0.25em;background-color: #f0f8ff;}#sk-container-id-3 input.sk-toggleable__control:checked~div.sk-toggleable__content {max-height: 200px;max-width: 100%;overflow: auto;}#sk-container-id-3 input.sk-toggleable__control:checked~label.sk-toggleable__label-arrow:before {content: \"▾\";}#sk-container-id-3 div.sk-estimator input.sk-toggleable__control:checked~label.sk-toggleable__label {background-color: #d4ebff;}#sk-container-id-3 div.sk-label input.sk-toggleable__control:checked~label.sk-toggleable__label {background-color: #d4ebff;}#sk-container-id-3 input.sk-hidden--visually {border: 0;clip: rect(1px 1px 1px 1px);clip: rect(1px, 1px, 1px, 1px);height: 1px;margin: -1px;overflow: hidden;padding: 0;position: absolute;width: 1px;}#sk-container-id-3 div.sk-estimator {font-family: monospace;background-color: #f0f8ff;border: 1px dotted black;border-radius: 0.25em;box-sizing: border-box;margin-bottom: 0.5em;}#sk-container-id-3 div.sk-estimator:hover {background-color: #d4ebff;}#sk-container-id-3 div.sk-parallel-item::after {content: \"\";width: 100%;border-bottom: 1px solid gray;flex-grow: 1;}#sk-container-id-3 div.sk-label:hover label.sk-toggleable__label {background-color: #d4ebff;}#sk-container-id-3 div.sk-serial::before {content: \"\";position: absolute;border-left: 1px solid gray;box-sizing: border-box;top: 0;bottom: 0;left: 50%;z-index: 0;}#sk-container-id-3 div.sk-serial {display: flex;flex-direction: column;align-items: center;background-color: white;padding-right: 0.2em;padding-left: 0.2em;position: relative;}#sk-container-id-3 div.sk-item {position: relative;z-index: 1;}#sk-container-id-3 div.sk-parallel {display: flex;align-items: stretch;justify-content: center;background-color: white;position: relative;}#sk-container-id-3 div.sk-item::before, #sk-container-id-3 div.sk-parallel-item::before {content: \"\";position: absolute;border-left: 1px solid gray;box-sizing: border-box;top: 0;bottom: 0;left: 50%;z-index: -1;}#sk-container-id-3 div.sk-parallel-item {display: flex;flex-direction: column;z-index: 1;position: relative;background-color: white;}#sk-container-id-3 div.sk-parallel-item:first-child::after {align-self: flex-end;width: 50%;}#sk-container-id-3 div.sk-parallel-item:last-child::after {align-self: flex-start;width: 50%;}#sk-container-id-3 div.sk-parallel-item:only-child::after {width: 0;}#sk-container-id-3 div.sk-dashed-wrapped {border: 1px dashed gray;margin: 0 0.4em 0.5em 0.4em;box-sizing: border-box;padding-bottom: 0.4em;background-color: white;}#sk-container-id-3 div.sk-label label {font-family: monospace;font-weight: bold;display: inline-block;line-height: 1.2em;}#sk-container-id-3 div.sk-label-container {text-align: center;}#sk-container-id-3 div.sk-container {/* jupyter's `normalize.less` sets `[hidden] { display: none; }` but bootstrap.min.css set `[hidden] { display: none !important; }` so we also need the `!important` here to be able to override the default hidden behavior on the sphinx rendered scikit-learn.org. See: https://github.com/scikit-learn/scikit-learn/issues/21755 */display: inline-block !important;position: relative;}#sk-container-id-3 div.sk-text-repr-fallback {display: none;}</style><div id=\"sk-container-id-3\" class=\"sk-top-container\"><div class=\"sk-text-repr-fallback\"><pre>GradientBoostingClassifier()</pre><b>In a Jupyter environment, please rerun this cell to show the HTML representation or trust the notebook. <br />On GitHub, the HTML representation is unable to render, please try loading this page with nbviewer.org.</b></div><div class=\"sk-container\" hidden><div class=\"sk-item\"><div class=\"sk-estimator sk-toggleable\"><input class=\"sk-toggleable__control sk-hidden--visually\" id=\"sk-estimator-id-3\" type=\"checkbox\" checked><label for=\"sk-estimator-id-3\" class=\"sk-toggleable__label sk-toggleable__label-arrow\">GradientBoostingClassifier</label><div class=\"sk-toggleable__content\"><pre>GradientBoostingClassifier()</pre></div></div></div></div></div>"
      ],
      "text/plain": [
       "GradientBoostingClassifier()"
      ]
     },
     "execution_count": 30,
     "metadata": {},
     "output_type": "execute_result"
    }
   ],
   "source": [
    "# model train dan fitting\n",
    "model = GradientBoostingClassifier()\n",
    "model.fit(X_train, y_train)"
   ]
  },
  {
   "cell_type": "code",
   "execution_count": 31,
   "id": "0f432d38-f35e-4868-b8b4-203d6eb2f197",
   "metadata": {},
   "outputs": [],
   "source": [
    "# buat ypredict\n",
    "y_pred = model.predict(X_test)"
   ]
  },
  {
   "cell_type": "code",
   "execution_count": 32,
   "id": "46fd56a1-5da8-4479-884e-5017b2ba0f0c",
   "metadata": {},
   "outputs": [],
   "source": [
    "# buat df untuk store hasil actual vs pred\n",
    "result = pd.DataFrame()\n",
    "result[\"y_act\"] = y_test\n",
    "result[\"y_pred\"] = y_pred"
   ]
  },
  {
   "cell_type": "code",
   "execution_count": 33,
   "id": "d3ffc1db-e898-4b1c-bcc9-eac62d161a1c",
   "metadata": {},
   "outputs": [],
   "source": [
    "#concat result\n",
    "result = pd.concat([X_test, result], axis = 1)"
   ]
  },
  {
   "cell_type": "code",
   "execution_count": 34,
   "id": "f166fbaa-951e-4822-9cea-128bbf6482a0",
   "metadata": {},
   "outputs": [
    {
     "data": {
      "text/html": [
       "<div>\n",
       "<style scoped>\n",
       "    .dataframe tbody tr th:only-of-type {\n",
       "        vertical-align: middle;\n",
       "    }\n",
       "\n",
       "    .dataframe tbody tr th {\n",
       "        vertical-align: top;\n",
       "    }\n",
       "\n",
       "    .dataframe thead th {\n",
       "        text-align: right;\n",
       "    }\n",
       "</style>\n",
       "<table border=\"1\" class=\"dataframe\">\n",
       "  <thead>\n",
       "    <tr style=\"text-align: right;\">\n",
       "      <th></th>\n",
       "      <th>Curricular units 2nd sem (approved)</th>\n",
       "      <th>Curricular units 2nd sem (grade)</th>\n",
       "      <th>Curricular units 1st sem (approved)</th>\n",
       "      <th>Tuition fees up to date</th>\n",
       "      <th>Curricular units 1st sem (grade)</th>\n",
       "      <th>Scholarship holder</th>\n",
       "      <th>Debtor</th>\n",
       "      <th>Curricular units 2nd sem (evaluations)</th>\n",
       "      <th>Course</th>\n",
       "      <th>Application mode</th>\n",
       "      <th>...</th>\n",
       "      <th>Previous qualification</th>\n",
       "      <th>Curricular units 1st sem (without evaluations)</th>\n",
       "      <th>Curricular units 2nd sem (without evaluations)</th>\n",
       "      <th>Marital status</th>\n",
       "      <th>Daytime/evening attendance\\t</th>\n",
       "      <th>Nationality</th>\n",
       "      <th>International</th>\n",
       "      <th>Educational special needs</th>\n",
       "      <th>y_act</th>\n",
       "      <th>y_pred</th>\n",
       "    </tr>\n",
       "  </thead>\n",
       "  <tbody>\n",
       "    <tr>\n",
       "      <th>304</th>\n",
       "      <td>6</td>\n",
       "      <td>15.750000</td>\n",
       "      <td>6</td>\n",
       "      <td>1</td>\n",
       "      <td>16.153846</td>\n",
       "      <td>1</td>\n",
       "      <td>0</td>\n",
       "      <td>10</td>\n",
       "      <td>9085</td>\n",
       "      <td>1</td>\n",
       "      <td>...</td>\n",
       "      <td>1</td>\n",
       "      <td>0</td>\n",
       "      <td>0</td>\n",
       "      <td>1</td>\n",
       "      <td>1</td>\n",
       "      <td>1</td>\n",
       "      <td>0</td>\n",
       "      <td>0</td>\n",
       "      <td>1</td>\n",
       "      <td>1</td>\n",
       "    </tr>\n",
       "    <tr>\n",
       "      <th>88</th>\n",
       "      <td>5</td>\n",
       "      <td>12.800000</td>\n",
       "      <td>5</td>\n",
       "      <td>1</td>\n",
       "      <td>13.400000</td>\n",
       "      <td>0</td>\n",
       "      <td>0</td>\n",
       "      <td>5</td>\n",
       "      <td>9085</td>\n",
       "      <td>1</td>\n",
       "      <td>...</td>\n",
       "      <td>1</td>\n",
       "      <td>0</td>\n",
       "      <td>0</td>\n",
       "      <td>1</td>\n",
       "      <td>1</td>\n",
       "      <td>1</td>\n",
       "      <td>0</td>\n",
       "      <td>0</td>\n",
       "      <td>1</td>\n",
       "      <td>1</td>\n",
       "    </tr>\n",
       "    <tr>\n",
       "      <th>1239</th>\n",
       "      <td>2</td>\n",
       "      <td>10.500000</td>\n",
       "      <td>4</td>\n",
       "      <td>1</td>\n",
       "      <td>10.750000</td>\n",
       "      <td>0</td>\n",
       "      <td>0</td>\n",
       "      <td>12</td>\n",
       "      <td>9130</td>\n",
       "      <td>44</td>\n",
       "      <td>...</td>\n",
       "      <td>39</td>\n",
       "      <td>0</td>\n",
       "      <td>0</td>\n",
       "      <td>1</td>\n",
       "      <td>1</td>\n",
       "      <td>1</td>\n",
       "      <td>0</td>\n",
       "      <td>0</td>\n",
       "      <td>0</td>\n",
       "      <td>0</td>\n",
       "    </tr>\n",
       "    <tr>\n",
       "      <th>905</th>\n",
       "      <td>6</td>\n",
       "      <td>13.666667</td>\n",
       "      <td>6</td>\n",
       "      <td>1</td>\n",
       "      <td>13.666667</td>\n",
       "      <td>1</td>\n",
       "      <td>0</td>\n",
       "      <td>9</td>\n",
       "      <td>9670</td>\n",
       "      <td>17</td>\n",
       "      <td>...</td>\n",
       "      <td>1</td>\n",
       "      <td>0</td>\n",
       "      <td>0</td>\n",
       "      <td>1</td>\n",
       "      <td>1</td>\n",
       "      <td>1</td>\n",
       "      <td>0</td>\n",
       "      <td>0</td>\n",
       "      <td>1</td>\n",
       "      <td>1</td>\n",
       "    </tr>\n",
       "    <tr>\n",
       "      <th>3499</th>\n",
       "      <td>6</td>\n",
       "      <td>12.428571</td>\n",
       "      <td>6</td>\n",
       "      <td>1</td>\n",
       "      <td>13.166667</td>\n",
       "      <td>0</td>\n",
       "      <td>0</td>\n",
       "      <td>8</td>\n",
       "      <td>9773</td>\n",
       "      <td>17</td>\n",
       "      <td>...</td>\n",
       "      <td>1</td>\n",
       "      <td>0</td>\n",
       "      <td>0</td>\n",
       "      <td>1</td>\n",
       "      <td>1</td>\n",
       "      <td>1</td>\n",
       "      <td>0</td>\n",
       "      <td>0</td>\n",
       "      <td>1</td>\n",
       "      <td>1</td>\n",
       "    </tr>\n",
       "  </tbody>\n",
       "</table>\n",
       "<p>5 rows × 38 columns</p>\n",
       "</div>"
      ],
      "text/plain": [
       "      Curricular units 2nd sem (approved)  Curricular units 2nd sem (grade)  \\\n",
       "304                                     6                         15.750000   \n",
       "88                                      5                         12.800000   \n",
       "1239                                    2                         10.500000   \n",
       "905                                     6                         13.666667   \n",
       "3499                                    6                         12.428571   \n",
       "\n",
       "      Curricular units 1st sem (approved)  Tuition fees up to date  \\\n",
       "304                                     6                        1   \n",
       "88                                      5                        1   \n",
       "1239                                    4                        1   \n",
       "905                                     6                        1   \n",
       "3499                                    6                        1   \n",
       "\n",
       "      Curricular units 1st sem (grade)  Scholarship holder  Debtor  \\\n",
       "304                          16.153846                   1       0   \n",
       "88                           13.400000                   0       0   \n",
       "1239                         10.750000                   0       0   \n",
       "905                          13.666667                   1       0   \n",
       "3499                         13.166667                   0       0   \n",
       "\n",
       "      Curricular units 2nd sem (evaluations)  Course  Application mode  ...  \\\n",
       "304                                       10    9085                 1  ...   \n",
       "88                                         5    9085                 1  ...   \n",
       "1239                                      12    9130                44  ...   \n",
       "905                                        9    9670                17  ...   \n",
       "3499                                       8    9773                17  ...   \n",
       "\n",
       "      Previous qualification  Curricular units 1st sem (without evaluations)  \\\n",
       "304                        1                                               0   \n",
       "88                         1                                               0   \n",
       "1239                      39                                               0   \n",
       "905                        1                                               0   \n",
       "3499                       1                                               0   \n",
       "\n",
       "      Curricular units 2nd sem (without evaluations)  Marital status  \\\n",
       "304                                                0               1   \n",
       "88                                                 0               1   \n",
       "1239                                               0               1   \n",
       "905                                                0               1   \n",
       "3499                                               0               1   \n",
       "\n",
       "      Daytime/evening attendance\\t  Nationality  International  \\\n",
       "304                              1            1              0   \n",
       "88                               1            1              0   \n",
       "1239                             1            1              0   \n",
       "905                              1            1              0   \n",
       "3499                             1            1              0   \n",
       "\n",
       "      Educational special needs  y_act  y_pred  \n",
       "304                           0      1       1  \n",
       "88                            0      1       1  \n",
       "1239                          0      0       0  \n",
       "905                           0      1       1  \n",
       "3499                          0      1       1  \n",
       "\n",
       "[5 rows x 38 columns]"
      ]
     },
     "execution_count": 34,
     "metadata": {},
     "output_type": "execute_result"
    }
   ],
   "source": [
    "#cek hasil\n",
    "result.head()"
   ]
  },
  {
   "cell_type": "markdown",
   "id": "05db0f87-4bd5-44cc-b3b8-08a0942ffc1c",
   "metadata": {
    "toc-hr-collapsed": true
   },
   "source": [
    "#### CONFUSION MATRIX"
   ]
  },
  {
   "cell_type": "code",
   "execution_count": 35,
   "id": "1dc95a69-1187-4534-ad1d-1c0c9c634ed8",
   "metadata": {},
   "outputs": [
    {
     "name": "stdout",
     "output_type": "stream",
     "text": [
      "[[248  48]\n",
      " [ 23 407]]\n"
     ]
    }
   ],
   "source": [
    "# confusion matrix\n",
    "print(confusion_matrix(y_test, y_pred))"
   ]
  },
  {
   "cell_type": "code",
   "execution_count": 36,
   "id": "8822f7ce-f380-46fe-a5ff-e1dffd6eeeab",
   "metadata": {},
   "outputs": [
    {
     "data": {
      "image/png": "[encoded data removed]",
      "text/plain": [
       "<Figure size 432x288 with 2 Axes>"
      ]
     },
     "metadata": {
      "needs_background": "light"
     },
     "output_type": "display_data"
    }
   ],
   "source": [
    "# plot confusion matrix\n",
    "sns.heatmap(confusion_matrix(y_test, y_pred), annot = True, fmt = \".0f\")\n",
    "plt.xlabel(\"Prediction\")\n",
    "plt.ylabel(\"Actual\")\n",
    "plt.show()"
   ]
  },
  {
   "cell_type": "code",
   "execution_count": 37,
   "id": "c3bace1f-911b-4540-9713-7cf55c9e2444",
   "metadata": {},
   "outputs": [
    {
     "name": "stdout",
     "output_type": "stream",
     "text": [
      "              precision    recall  f1-score   support\n",
      "\n",
      "           0       0.92      0.84      0.87       296\n",
      "           1       0.89      0.95      0.92       430\n",
      "\n",
      "    accuracy                           0.90       726\n",
      "   macro avg       0.90      0.89      0.90       726\n",
      "weighted avg       0.90      0.90      0.90       726\n",
      "\n"
     ]
    }
   ],
   "source": [
    "# classification report\n",
    "print(classification_report(y_test, y_pred))"
   ]
  },
  {
   "cell_type": "markdown",
   "id": "e1e1fcf7-bf59-4ab8-b924-cdfc92c649e9",
   "metadata": {},
   "source": [
    "#### CV SCORE"
   ]
  },
  {
   "cell_type": "code",
   "execution_count": 38,
   "id": "aef7b2dc-6839-4e68-8088-fecc59f49030",
   "metadata": {},
   "outputs": [
    {
     "name": "stdout",
     "output_type": "stream",
     "text": [
      "CV Accuracy : (0.9077185589649238, 0.9094415098818921)\n"
     ]
    }
   ],
   "source": [
    "print(\"CV Accuracy :\", cv_score(model, X_train, y_train, \"accuracy\",5))"
   ]
  },
  {
   "cell_type": "markdown",
   "id": "51964499-b078-412e-b778-30a413186570",
   "metadata": {},
   "source": [
    "> Kita akan bandingkan score ke3 model sebelum dituning"
   ]
  },
  {
   "cell_type": "code",
   "execution_count": 39,
   "id": "88c6645d-23ce-4c08-834e-330ee8529039",
   "metadata": {},
   "outputs": [
    {
     "name": "stdout",
     "output_type": "stream",
     "text": [
      "CV Accuracy Logistic: (0.8560614873286247, 0.8471036856786753)\n",
      "CV Accuracy DecisionTree: (0.8529657546441924, 0.8536565968306725)\n",
      "CV Accuracy GradientBoosting: (0.9073743248857499, 0.9090972758027183)\n"
     ]
    }
   ],
   "source": [
    "print(\"CV Accuracy Logistic:\", cv_score(LogisticRegression(), X_train, y_train, \"accuracy\",5))\n",
    "print(\"CV Accuracy DecisionTree:\", cv_score(DecisionTreeClassifier(), X_train, y_train, \"accuracy\",5))\n",
    "print(\"CV Accuracy GradientBoosting:\", cv_score(GradientBoostingClassifier(), X_train, y_train, \"accuracy\",5))"
   ]
  },
  {
   "cell_type": "markdown",
   "id": "cac7ba1a-0823-413b-918a-2edf4c3b2ced",
   "metadata": {},
   "source": [
    "## SET PARAMETER FOR HYPERPARAMETER"
   ]
  },
  {
   "cell_type": "markdown",
   "id": "27c1c8be-488f-4e6d-8cbc-8e92766bd96b",
   "metadata": {},
   "source": [
    "- LOGISTIC REGRESSION"
   ]
  },
  {
   "cell_type": "code",
   "execution_count": 40,
   "id": "eaa813f8-e42f-4768-b3de-a2cdf5b8fdf6",
   "metadata": {},
   "outputs": [],
   "source": [
    "# parameter logistic regression + nilainya pada tiap parameter dalam bentuk dictionary\n",
    "log_param = [{'solver' : ['saga'],\n",
    "          'penalty' : ['elasticnet', 'l1', 'l2', 'none'],\n",
    "          'max_iter' : [100, 200, 500], \n",
    "          'C' : [0.01, 0.1, 1], \n",
    "          'l1_ratio' : [0,1]},\n",
    "         \n",
    "          {'solver' : ['newton-cg', 'lbfgs'],\n",
    "           'penalty' : ['l2','none'],\n",
    "           'max_iter' : [100, 200, 500],\n",
    "           'C' : [0.01, 0.1, 1],\n",
    "           'l1_ratio' : [0,1]}]"
   ]
  },
  {
   "cell_type": "markdown",
   "id": "b3efa192-a488-4d54-a8ff-c3294b52c283",
   "metadata": {},
   "source": [
    "- DECISION TREE"
   ]
  },
  {
   "cell_type": "code",
   "execution_count": 58,
   "id": "59c6cb9c-c5e7-4852-bcfd-09b7bef4cc00",
   "metadata": {},
   "outputs": [],
   "source": [
    "# parameter decision tree + nilainya pada tiap parameter dalam bentuk dictionary\n",
    "dec_param = [{\n",
    "    'criterion': ['gini', 'entropy'],\n",
    "    'splitter': ['best', 'random'],\n",
    "    'max_depth': [2, 4, 6, 8, 10, 12],\n",
    "    'min_samples_split' : [i for i in range(1,10)],\n",
    "    'min_samples_leaf' : [i for i in range(1,10)]}]"
   ]
  },
  {
   "cell_type": "markdown",
   "id": "e17a0c52-9d45-49a1-afbf-5f0cd58b7d34",
   "metadata": {
    "tags": []
   },
   "source": [
    "- GRADIENTBOOSTINGCLASSIFIER"
   ]
  },
  {
   "cell_type": "code",
   "execution_count": 42,
   "id": "dbb0fda6-b2fe-4993-b2ed-bfd9c74df1ca",
   "metadata": {},
   "outputs": [],
   "source": [
    "# parameter GradientBoostingClassifier + nilainya pada tiap parameter dalam bentuk dictionary\n",
    "gb_param = [{\n",
    "    'n_estimators': [50, 100, 200],\n",
    "    'learning_rate': [0.01, 0.1, 1.0],\n",
    "    'max_depth': [3, 5, 7],\n",
    "    'min_samples_split': [2, 5, 10],\n",
    "    'min_samples_leaf': [1, 2, 4],\n",
    "    'subsample': [0.8, 1.0],\n",
    "    'max_features': ['auto', 'sqrt'] }]"
   ]
  },
  {
   "cell_type": "markdown",
   "id": "ee546248-04a6-480e-8677-c31a8298995a",
   "metadata": {
    "tags": []
   },
   "source": [
    "### GRID SEARCH (GRID SEARCH CROSS VALIDATION)"
   ]
  },
  {
   "cell_type": "markdown",
   "id": "1110e904-2932-4741-91de-b1cbe6e3f750",
   "metadata": {
    "tags": []
   },
   "source": [
    "#### LOGISTIC"
   ]
  },
  {
   "cell_type": "code",
   "execution_count": 43,
   "id": "2aeef3f8-c459-43d0-b5e7-51a3c637fdd2",
   "metadata": {},
   "outputs": [],
   "source": [
    "# split target variable\n",
    "X = df_log.drop(columns = 'Target')\n",
    "y = df_log['Target']"
   ]
  },
  {
   "cell_type": "code",
   "execution_count": 44,
   "id": "bba79e5a-3bd6-47a5-b587-40d9be1da5ec",
   "metadata": {},
   "outputs": [],
   "source": [
    "# train testsplit\n",
    "X_train, X_test, y_train, y_test = train_test_split(X,y, test_size = 0.2, random_state=0) # size test = 20%"
   ]
  },
  {
   "cell_type": "code",
   "execution_count": 45,
   "id": "242388ab-7126-46bb-9a86-177e239612e5",
   "metadata": {},
   "outputs": [],
   "source": [
    "# model train dan fitting\n",
    "model = LogisticRegression()"
   ]
  },
  {
   "cell_type": "code",
   "execution_count": 46,
   "id": "395ad539-ea1d-4b19-ab49-da04e35e48cd",
   "metadata": {},
   "outputs": [],
   "source": [
    "# gunakan grid search cv\n",
    "model_gs = GridSearchCV(estimator = model, param_grid = log_param, cv = 5, scoring = 'accuracy') # scoring disesuaikan dengan metrics yang relevan"
   ]
  },
  {
   "cell_type": "code",
   "execution_count": 47,
   "id": "4a7b0f78-f1e4-4470-9d2f-c0dd3c4fa721",
   "metadata": {},
   "outputs": [
    {
     "data": {
      "text/html": [
       "<style>#sk-container-id-4 {color: black;background-color: white;}#sk-container-id-4 pre{padding: 0;}#sk-container-id-4 div.sk-toggleable {background-color: white;}#sk-container-id-4 label.sk-toggleable__label {cursor: pointer;display: block;width: 100%;margin-bottom: 0;padding: 0.3em;box-sizing: border-box;text-align: center;}#sk-container-id-4 label.sk-toggleable__label-arrow:before {content: \"▸\";float: left;margin-right: 0.25em;color: #696969;}#sk-container-id-4 label.sk-toggleable__label-arrow:hover:before {color: black;}#sk-container-id-4 div.sk-estimator:hover label.sk-toggleable__label-arrow:before {color: black;}#sk-container-id-4 div.sk-toggleable__content {max-height: 0;max-width: 0;overflow: hidden;text-align: left;background-color: #f0f8ff;}#sk-container-id-4 div.sk-toggleable__content pre {margin: 0.2em;color: black;border-radius: 0.25em;background-color: #f0f8ff;}#sk-container-id-4 input.sk-toggleable__control:checked~div.sk-toggleable__content {max-height: 200px;max-width: 100%;overflow: auto;}#sk-container-id-4 input.sk-toggleable__control:checked~label.sk-toggleable__label-arrow:before {content: \"▾\";}#sk-container-id-4 div.sk-estimator input.sk-toggleable__control:checked~label.sk-toggleable__label {background-color: #d4ebff;}#sk-container-id-4 div.sk-label input.sk-toggleable__control:checked~label.sk-toggleable__label {background-color: #d4ebff;}#sk-container-id-4 input.sk-hidden--visually {border: 0;clip: rect(1px 1px 1px 1px);clip: rect(1px, 1px, 1px, 1px);height: 1px;margin: -1px;overflow: hidden;padding: 0;position: absolute;width: 1px;}#sk-container-id-4 div.sk-estimator {font-family: monospace;background-color: #f0f8ff;border: 1px dotted black;border-radius: 0.25em;box-sizing: border-box;margin-bottom: 0.5em;}#sk-container-id-4 div.sk-estimator:hover {background-color: #d4ebff;}#sk-container-id-4 div.sk-parallel-item::after {content: \"\";width: 100%;border-bottom: 1px solid gray;flex-grow: 1;}#sk-container-id-4 div.sk-label:hover label.sk-toggleable__label {background-color: #d4ebff;}#sk-container-id-4 div.sk-serial::before {content: \"\";position: absolute;border-left: 1px solid gray;box-sizing: border-box;top: 0;bottom: 0;left: 50%;z-index: 0;}#sk-container-id-4 div.sk-serial {display: flex;flex-direction: column;align-items: center;background-color: white;padding-right: 0.2em;padding-left: 0.2em;position: relative;}#sk-container-id-4 div.sk-item {position: relative;z-index: 1;}#sk-container-id-4 div.sk-parallel {display: flex;align-items: stretch;justify-content: center;background-color: white;position: relative;}#sk-container-id-4 div.sk-item::before, #sk-container-id-4 div.sk-parallel-item::before {content: \"\";position: absolute;border-left: 1px solid gray;box-sizing: border-box;top: 0;bottom: 0;left: 50%;z-index: -1;}#sk-container-id-4 div.sk-parallel-item {display: flex;flex-direction: column;z-index: 1;position: relative;background-color: white;}#sk-container-id-4 div.sk-parallel-item:first-child::after {align-self: flex-end;width: 50%;}#sk-container-id-4 div.sk-parallel-item:last-child::after {align-self: flex-start;width: 50%;}#sk-container-id-4 div.sk-parallel-item:only-child::after {width: 0;}#sk-container-id-4 div.sk-dashed-wrapped {border: 1px dashed gray;margin: 0 0.4em 0.5em 0.4em;box-sizing: border-box;padding-bottom: 0.4em;background-color: white;}#sk-container-id-4 div.sk-label label {font-family: monospace;font-weight: bold;display: inline-block;line-height: 1.2em;}#sk-container-id-4 div.sk-label-container {text-align: center;}#sk-container-id-4 div.sk-container {/* jupyter's `normalize.less` sets `[hidden] { display: none; }` but bootstrap.min.css set `[hidden] { display: none !important; }` so we also need the `!important` here to be able to override the default hidden behavior on the sphinx rendered scikit-learn.org. See: https://github.com/scikit-learn/scikit-learn/issues/21755 */display: inline-block !important;position: relative;}#sk-container-id-4 div.sk-text-repr-fallback {display: none;}</style><div id=\"sk-container-id-4\" class=\"sk-top-container\"><div class=\"sk-text-repr-fallback\"><pre>GridSearchCV(cv=5, estimator=LogisticRegression(),\n",
       "             param_grid=[{&#x27;C&#x27;: [0.01, 0.1, 1], &#x27;l1_ratio&#x27;: [0, 1],\n",
       "                          &#x27;max_iter&#x27;: [100, 200, 500],\n",
       "                          &#x27;penalty&#x27;: [&#x27;elasticnet&#x27;, &#x27;l1&#x27;, &#x27;l2&#x27;, &#x27;none&#x27;],\n",
       "                          &#x27;solver&#x27;: [&#x27;saga&#x27;]},\n",
       "                         {&#x27;C&#x27;: [0.01, 0.1, 1], &#x27;l1_ratio&#x27;: [0, 1],\n",
       "                          &#x27;max_iter&#x27;: [100, 200, 500],\n",
       "                          &#x27;penalty&#x27;: [&#x27;l2&#x27;, &#x27;none&#x27;],\n",
       "                          &#x27;solver&#x27;: [&#x27;newton-cg&#x27;, &#x27;lbfgs&#x27;]}],\n",
       "             scoring=&#x27;accuracy&#x27;)</pre><b>In a Jupyter environment, please rerun this cell to show the HTML representation or trust the notebook. <br />On GitHub, the HTML representation is unable to render, please try loading this page with nbviewer.org.</b></div><div class=\"sk-container\" hidden><div class=\"sk-item sk-dashed-wrapped\"><div class=\"sk-label-container\"><div class=\"sk-label sk-toggleable\"><input class=\"sk-toggleable__control sk-hidden--visually\" id=\"sk-estimator-id-4\" type=\"checkbox\" ><label for=\"sk-estimator-id-4\" class=\"sk-toggleable__label sk-toggleable__label-arrow\">GridSearchCV</label><div class=\"sk-toggleable__content\"><pre>GridSearchCV(cv=5, estimator=LogisticRegression(),\n",
       "             param_grid=[{&#x27;C&#x27;: [0.01, 0.1, 1], &#x27;l1_ratio&#x27;: [0, 1],\n",
       "                          &#x27;max_iter&#x27;: [100, 200, 500],\n",
       "                          &#x27;penalty&#x27;: [&#x27;elasticnet&#x27;, &#x27;l1&#x27;, &#x27;l2&#x27;, &#x27;none&#x27;],\n",
       "                          &#x27;solver&#x27;: [&#x27;saga&#x27;]},\n",
       "                         {&#x27;C&#x27;: [0.01, 0.1, 1], &#x27;l1_ratio&#x27;: [0, 1],\n",
       "                          &#x27;max_iter&#x27;: [100, 200, 500],\n",
       "                          &#x27;penalty&#x27;: [&#x27;l2&#x27;, &#x27;none&#x27;],\n",
       "                          &#x27;solver&#x27;: [&#x27;newton-cg&#x27;, &#x27;lbfgs&#x27;]}],\n",
       "             scoring=&#x27;accuracy&#x27;)</pre></div></div></div><div class=\"sk-parallel\"><div class=\"sk-parallel-item\"><div class=\"sk-item\"><div class=\"sk-label-container\"><div class=\"sk-label sk-toggleable\"><input class=\"sk-toggleable__control sk-hidden--visually\" id=\"sk-estimator-id-5\" type=\"checkbox\" ><label for=\"sk-estimator-id-5\" class=\"sk-toggleable__label sk-toggleable__label-arrow\">estimator: LogisticRegression</label><div class=\"sk-toggleable__content\"><pre>LogisticRegression()</pre></div></div></div><div class=\"sk-serial\"><div class=\"sk-item\"><div class=\"sk-estimator sk-toggleable\"><input class=\"sk-toggleable__control sk-hidden--visually\" id=\"sk-estimator-id-6\" type=\"checkbox\" ><label for=\"sk-estimator-id-6\" class=\"sk-toggleable__label sk-toggleable__label-arrow\">LogisticRegression</label><div class=\"sk-toggleable__content\"><pre>LogisticRegression()</pre></div></div></div></div></div></div></div></div></div></div>"
      ],
      "text/plain": [
       "GridSearchCV(cv=5, estimator=LogisticRegression(),\n",
       "             param_grid=[{'C': [0.01, 0.1, 1], 'l1_ratio': [0, 1],\n",
       "                          'max_iter': [100, 200, 500],\n",
       "                          'penalty': ['elasticnet', 'l1', 'l2', 'none'],\n",
       "                          'solver': ['saga']},\n",
       "                         {'C': [0.01, 0.1, 1], 'l1_ratio': [0, 1],\n",
       "                          'max_iter': [100, 200, 500],\n",
       "                          'penalty': ['l2', 'none'],\n",
       "                          'solver': ['newton-cg', 'lbfgs']}],\n",
       "             scoring='accuracy')"
      ]
     },
     "execution_count": 47,
     "metadata": {},
     "output_type": "execute_result"
    }
   ],
   "source": [
    "# fit grid search cv\n",
    "model_gs.fit(X_train, y_train)"
   ]
  },
  {
   "cell_type": "code",
   "execution_count": 48,
   "id": "95666737-77d3-4fa3-b464-6c47b90d4e66",
   "metadata": {},
   "outputs": [
    {
     "data": {
      "text/plain": [
       "{'C': 1,\n",
       " 'l1_ratio': 0,\n",
       " 'max_iter': 100,\n",
       " 'penalty': 'l2',\n",
       " 'solver': 'newton-cg'}"
      ]
     },
     "execution_count": 48,
     "metadata": {},
     "output_type": "execute_result"
    }
   ],
   "source": [
    "# hasil best parameter\n",
    "model_gs.best_params_"
   ]
  },
  {
   "cell_type": "code",
   "execution_count": 49,
   "id": "1b4f722f-8169-4ea3-9131-78575d20cfd4",
   "metadata": {},
   "outputs": [
    {
     "data": {
      "text/html": [
       "<style>#sk-container-id-5 {color: black;background-color: white;}#sk-container-id-5 pre{padding: 0;}#sk-container-id-5 div.sk-toggleable {background-color: white;}#sk-container-id-5 label.sk-toggleable__label {cursor: pointer;display: block;width: 100%;margin-bottom: 0;padding: 0.3em;box-sizing: border-box;text-align: center;}#sk-container-id-5 label.sk-toggleable__label-arrow:before {content: \"▸\";float: left;margin-right: 0.25em;color: #696969;}#sk-container-id-5 label.sk-toggleable__label-arrow:hover:before {color: black;}#sk-container-id-5 div.sk-estimator:hover label.sk-toggleable__label-arrow:before {color: black;}#sk-container-id-5 div.sk-toggleable__content {max-height: 0;max-width: 0;overflow: hidden;text-align: left;background-color: #f0f8ff;}#sk-container-id-5 div.sk-toggleable__content pre {margin: 0.2em;color: black;border-radius: 0.25em;background-color: #f0f8ff;}#sk-container-id-5 input.sk-toggleable__control:checked~div.sk-toggleable__content {max-height: 200px;max-width: 100%;overflow: auto;}#sk-container-id-5 input.sk-toggleable__control:checked~label.sk-toggleable__label-arrow:before {content: \"▾\";}#sk-container-id-5 div.sk-estimator input.sk-toggleable__control:checked~label.sk-toggleable__label {background-color: #d4ebff;}#sk-container-id-5 div.sk-label input.sk-toggleable__control:checked~label.sk-toggleable__label {background-color: #d4ebff;}#sk-container-id-5 input.sk-hidden--visually {border: 0;clip: rect(1px 1px 1px 1px);clip: rect(1px, 1px, 1px, 1px);height: 1px;margin: -1px;overflow: hidden;padding: 0;position: absolute;width: 1px;}#sk-container-id-5 div.sk-estimator {font-family: monospace;background-color: #f0f8ff;border: 1px dotted black;border-radius: 0.25em;box-sizing: border-box;margin-bottom: 0.5em;}#sk-container-id-5 div.sk-estimator:hover {background-color: #d4ebff;}#sk-container-id-5 div.sk-parallel-item::after {content: \"\";width: 100%;border-bottom: 1px solid gray;flex-grow: 1;}#sk-container-id-5 div.sk-label:hover label.sk-toggleable__label {background-color: #d4ebff;}#sk-container-id-5 div.sk-serial::before {content: \"\";position: absolute;border-left: 1px solid gray;box-sizing: border-box;top: 0;bottom: 0;left: 50%;z-index: 0;}#sk-container-id-5 div.sk-serial {display: flex;flex-direction: column;align-items: center;background-color: white;padding-right: 0.2em;padding-left: 0.2em;position: relative;}#sk-container-id-5 div.sk-item {position: relative;z-index: 1;}#sk-container-id-5 div.sk-parallel {display: flex;align-items: stretch;justify-content: center;background-color: white;position: relative;}#sk-container-id-5 div.sk-item::before, #sk-container-id-5 div.sk-parallel-item::before {content: \"\";position: absolute;border-left: 1px solid gray;box-sizing: border-box;top: 0;bottom: 0;left: 50%;z-index: -1;}#sk-container-id-5 div.sk-parallel-item {display: flex;flex-direction: column;z-index: 1;position: relative;background-color: white;}#sk-container-id-5 div.sk-parallel-item:first-child::after {align-self: flex-end;width: 50%;}#sk-container-id-5 div.sk-parallel-item:last-child::after {align-self: flex-start;width: 50%;}#sk-container-id-5 div.sk-parallel-item:only-child::after {width: 0;}#sk-container-id-5 div.sk-dashed-wrapped {border: 1px dashed gray;margin: 0 0.4em 0.5em 0.4em;box-sizing: border-box;padding-bottom: 0.4em;background-color: white;}#sk-container-id-5 div.sk-label label {font-family: monospace;font-weight: bold;display: inline-block;line-height: 1.2em;}#sk-container-id-5 div.sk-label-container {text-align: center;}#sk-container-id-5 div.sk-container {/* jupyter's `normalize.less` sets `[hidden] { display: none; }` but bootstrap.min.css set `[hidden] { display: none !important; }` so we also need the `!important` here to be able to override the default hidden behavior on the sphinx rendered scikit-learn.org. See: https://github.com/scikit-learn/scikit-learn/issues/21755 */display: inline-block !important;position: relative;}#sk-container-id-5 div.sk-text-repr-fallback {display: none;}</style><div id=\"sk-container-id-5\" class=\"sk-top-container\"><div class=\"sk-text-repr-fallback\"><pre>LogisticRegression(C=0.01, l1_ratio=0, max_iter=6, penalty=&#x27;none&#x27;,\n",
       "                   solver=&#x27;newton-cg&#x27;)</pre><b>In a Jupyter environment, please rerun this cell to show the HTML representation or trust the notebook. <br />On GitHub, the HTML representation is unable to render, please try loading this page with nbviewer.org.</b></div><div class=\"sk-container\" hidden><div class=\"sk-item\"><div class=\"sk-estimator sk-toggleable\"><input class=\"sk-toggleable__control sk-hidden--visually\" id=\"sk-estimator-id-7\" type=\"checkbox\" checked><label for=\"sk-estimator-id-7\" class=\"sk-toggleable__label sk-toggleable__label-arrow\">LogisticRegression</label><div class=\"sk-toggleable__content\"><pre>LogisticRegression(C=0.01, l1_ratio=0, max_iter=6, penalty=&#x27;none&#x27;,\n",
       "                   solver=&#x27;newton-cg&#x27;)</pre></div></div></div></div></div>"
      ],
      "text/plain": [
       "LogisticRegression(C=0.01, l1_ratio=0, max_iter=6, penalty='none',\n",
       "                   solver='newton-cg')"
      ]
     },
     "execution_count": 49,
     "metadata": {},
     "output_type": "execute_result"
    }
   ],
   "source": [
    "# train tuned model( hasil grid search cv)\n",
    "model_gs_tuned = LogisticRegression(solver = 'newton-cg', penalty = 'l2', max_iter=100, l1_ratio = 0, C=  1)\n",
    "model_gs_tuned.fit(X_train, y_train)"
   ]
  },
  {
   "cell_type": "markdown",
   "id": "8e7dbb7d-ec2b-4372-b3de-ef08f2774a7d",
   "metadata": {},
   "source": [
    "##### MODEL EVALUATION"
   ]
  },
  {
   "cell_type": "code",
   "execution_count": 50,
   "id": "40ddcc99-b98d-464b-9e53-aff95ca709ce",
   "metadata": {},
   "outputs": [
    {
     "name": "stdout",
     "output_type": "stream",
     "text": [
      "              precision    recall  f1-score   support\n",
      "\n",
      "           0       0.92      0.84      0.87       296\n",
      "           1       0.89      0.95      0.92       430\n",
      "\n",
      "    accuracy                           0.90       726\n",
      "   macro avg       0.90      0.89      0.90       726\n",
      "weighted avg       0.90      0.90      0.90       726\n",
      "\n"
     ]
    }
   ],
   "source": [
    "#base model\n",
    "print(classification_report(y_test, y_pred))"
   ]
  },
  {
   "cell_type": "code",
   "execution_count": 51,
   "id": "510bf5e1-0b17-49e2-babc-83537b5f60ef",
   "metadata": {},
   "outputs": [
    {
     "name": "stdout",
     "output_type": "stream",
     "text": [
      "              precision    recall  f1-score   support\n",
      "\n",
      "           0       0.90      0.54      0.67       296\n",
      "           1       0.75      0.96      0.84       430\n",
      "\n",
      "    accuracy                           0.79       726\n",
      "   macro avg       0.83      0.75      0.76       726\n",
      "weighted avg       0.81      0.79      0.77       726\n",
      "\n"
     ]
    }
   ],
   "source": [
    "# hasil tuned model dengan grid search cv\n",
    "y_pred_gs_tuned_log = model_gs_tuned.predict(X_test)\n",
    "print(classification_report(y_test, y_pred_gs_tuned_log))"
   ]
  },
  {
   "cell_type": "code",
   "execution_count": 52,
   "id": "b3e37dc8-c9ba-46ca-ab4b-c6ffbff22fdc",
   "metadata": {},
   "outputs": [
    {
     "data": {
      "text/plain": [
       "0.7878787878787878"
      ]
     },
     "execution_count": 52,
     "metadata": {},
     "output_type": "execute_result"
    }
   ],
   "source": [
    "accuracy_score(y_test, y_pred_gs_tuned_log)"
   ]
  },
  {
   "cell_type": "markdown",
   "id": "cbb6201a-5c66-495f-99f2-c60a695dc06d",
   "metadata": {
    "tags": []
   },
   "source": [
    "#### DECISION TREE"
   ]
  },
  {
   "cell_type": "code",
   "execution_count": 59,
   "id": "25117968-7571-4b29-9177-ba8c15470d0a",
   "metadata": {},
   "outputs": [],
   "source": [
    "# split target variable\n",
    "X = df_dec.drop(columns = 'Target')\n",
    "y = df_dec['Target']"
   ]
  },
  {
   "cell_type": "code",
   "execution_count": 60,
   "id": "3c99aa0f-efab-4d94-945d-8733c99d9808",
   "metadata": {},
   "outputs": [],
   "source": [
    "# train testsplit\n",
    "X_train, X_test, y_train, y_test = train_test_split(X,y, test_size = 0.2, random_state=0) # size test = 20%"
   ]
  },
  {
   "cell_type": "code",
   "execution_count": 61,
   "id": "183f65e5-ca63-451c-88ba-3e51cda74e34",
   "metadata": {},
   "outputs": [],
   "source": [
    "# model train dan fitting\n",
    "model = DecisionTreeClassifier()"
   ]
  },
  {
   "cell_type": "code",
   "execution_count": 62,
   "id": "2f9f6426-d487-4460-b2f8-9ec934661c55",
   "metadata": {},
   "outputs": [],
   "source": [
    "# gunakan grid search cv\n",
    "model_gs = GridSearchCV(estimator = model, param_grid = dec_param, cv = 5, scoring = 'accuracy') # scoring disesuaikan dengan metrics yang relevan"
   ]
  },
  {
   "cell_type": "code",
   "execution_count": 63,
   "id": "005839ff-e0e9-40b9-8424-bcd771777df3",
   "metadata": {},
   "outputs": [
    {
     "data": {
      "text/html": [
       "<style>#sk-container-id-6 {color: black;background-color: white;}#sk-container-id-6 pre{padding: 0;}#sk-container-id-6 div.sk-toggleable {background-color: white;}#sk-container-id-6 label.sk-toggleable__label {cursor: pointer;display: block;width: 100%;margin-bottom: 0;padding: 0.3em;box-sizing: border-box;text-align: center;}#sk-container-id-6 label.sk-toggleable__label-arrow:before {content: \"▸\";float: left;margin-right: 0.25em;color: #696969;}#sk-container-id-6 label.sk-toggleable__label-arrow:hover:before {color: black;}#sk-container-id-6 div.sk-estimator:hover label.sk-toggleable__label-arrow:before {color: black;}#sk-container-id-6 div.sk-toggleable__content {max-height: 0;max-width: 0;overflow: hidden;text-align: left;background-color: #f0f8ff;}#sk-container-id-6 div.sk-toggleable__content pre {margin: 0.2em;color: black;border-radius: 0.25em;background-color: #f0f8ff;}#sk-container-id-6 input.sk-toggleable__control:checked~div.sk-toggleable__content {max-height: 200px;max-width: 100%;overflow: auto;}#sk-container-id-6 input.sk-toggleable__control:checked~label.sk-toggleable__label-arrow:before {content: \"▾\";}#sk-container-id-6 div.sk-estimator input.sk-toggleable__control:checked~label.sk-toggleable__label {background-color: #d4ebff;}#sk-container-id-6 div.sk-label input.sk-toggleable__control:checked~label.sk-toggleable__label {background-color: #d4ebff;}#sk-container-id-6 input.sk-hidden--visually {border: 0;clip: rect(1px 1px 1px 1px);clip: rect(1px, 1px, 1px, 1px);height: 1px;margin: -1px;overflow: hidden;padding: 0;position: absolute;width: 1px;}#sk-container-id-6 div.sk-estimator {font-family: monospace;background-color: #f0f8ff;border: 1px dotted black;border-radius: 0.25em;box-sizing: border-box;margin-bottom: 0.5em;}#sk-container-id-6 div.sk-estimator:hover {background-color: #d4ebff;}#sk-container-id-6 div.sk-parallel-item::after {content: \"\";width: 100%;border-bottom: 1px solid gray;flex-grow: 1;}#sk-container-id-6 div.sk-label:hover label.sk-toggleable__label {background-color: #d4ebff;}#sk-container-id-6 div.sk-serial::before {content: \"\";position: absolute;border-left: 1px solid gray;box-sizing: border-box;top: 0;bottom: 0;left: 50%;z-index: 0;}#sk-container-id-6 div.sk-serial {display: flex;flex-direction: column;align-items: center;background-color: white;padding-right: 0.2em;padding-left: 0.2em;position: relative;}#sk-container-id-6 div.sk-item {position: relative;z-index: 1;}#sk-container-id-6 div.sk-parallel {display: flex;align-items: stretch;justify-content: center;background-color: white;position: relative;}#sk-container-id-6 div.sk-item::before, #sk-container-id-6 div.sk-parallel-item::before {content: \"\";position: absolute;border-left: 1px solid gray;box-sizing: border-box;top: 0;bottom: 0;left: 50%;z-index: -1;}#sk-container-id-6 div.sk-parallel-item {display: flex;flex-direction: column;z-index: 1;position: relative;background-color: white;}#sk-container-id-6 div.sk-parallel-item:first-child::after {align-self: flex-end;width: 50%;}#sk-container-id-6 div.sk-parallel-item:last-child::after {align-self: flex-start;width: 50%;}#sk-container-id-6 div.sk-parallel-item:only-child::after {width: 0;}#sk-container-id-6 div.sk-dashed-wrapped {border: 1px dashed gray;margin: 0 0.4em 0.5em 0.4em;box-sizing: border-box;padding-bottom: 0.4em;background-color: white;}#sk-container-id-6 div.sk-label label {font-family: monospace;font-weight: bold;display: inline-block;line-height: 1.2em;}#sk-container-id-6 div.sk-label-container {text-align: center;}#sk-container-id-6 div.sk-container {/* jupyter's `normalize.less` sets `[hidden] { display: none; }` but bootstrap.min.css set `[hidden] { display: none !important; }` so we also need the `!important` here to be able to override the default hidden behavior on the sphinx rendered scikit-learn.org. See: https://github.com/scikit-learn/scikit-learn/issues/21755 */display: inline-block !important;position: relative;}#sk-container-id-6 div.sk-text-repr-fallback {display: none;}</style><div id=\"sk-container-id-6\" class=\"sk-top-container\"><div class=\"sk-text-repr-fallback\"><pre>GridSearchCV(cv=5, estimator=DecisionTreeClassifier(),\n",
       "             param_grid=[{&#x27;criterion&#x27;: [&#x27;gini&#x27;, &#x27;entropy&#x27;],\n",
       "                          &#x27;max_depth&#x27;: [2, 4, 6, 8, 10, 12],\n",
       "                          &#x27;min_samples_leaf&#x27;: [1, 2, 3, 4, 5, 6, 7, 8, 9],\n",
       "                          &#x27;min_samples_split&#x27;: [1, 2, 3, 4, 5, 6, 7, 8, 9],\n",
       "                          &#x27;splitter&#x27;: [&#x27;best&#x27;, &#x27;random&#x27;]}],\n",
       "             scoring=&#x27;accuracy&#x27;)</pre><b>In a Jupyter environment, please rerun this cell to show the HTML representation or trust the notebook. <br />On GitHub, the HTML representation is unable to render, please try loading this page with nbviewer.org.</b></div><div class=\"sk-container\" hidden><div class=\"sk-item sk-dashed-wrapped\"><div class=\"sk-label-container\"><div class=\"sk-label sk-toggleable\"><input class=\"sk-toggleable__control sk-hidden--visually\" id=\"sk-estimator-id-8\" type=\"checkbox\" ><label for=\"sk-estimator-id-8\" class=\"sk-toggleable__label sk-toggleable__label-arrow\">GridSearchCV</label><div class=\"sk-toggleable__content\"><pre>GridSearchCV(cv=5, estimator=DecisionTreeClassifier(),\n",
       "             param_grid=[{&#x27;criterion&#x27;: [&#x27;gini&#x27;, &#x27;entropy&#x27;],\n",
       "                          &#x27;max_depth&#x27;: [2, 4, 6, 8, 10, 12],\n",
       "                          &#x27;min_samples_leaf&#x27;: [1, 2, 3, 4, 5, 6, 7, 8, 9],\n",
       "                          &#x27;min_samples_split&#x27;: [1, 2, 3, 4, 5, 6, 7, 8, 9],\n",
       "                          &#x27;splitter&#x27;: [&#x27;best&#x27;, &#x27;random&#x27;]}],\n",
       "             scoring=&#x27;accuracy&#x27;)</pre></div></div></div><div class=\"sk-parallel\"><div class=\"sk-parallel-item\"><div class=\"sk-item\"><div class=\"sk-label-container\"><div class=\"sk-label sk-toggleable\"><input class=\"sk-toggleable__control sk-hidden--visually\" id=\"sk-estimator-id-9\" type=\"checkbox\" ><label for=\"sk-estimator-id-9\" class=\"sk-toggleable__label sk-toggleable__label-arrow\">estimator: DecisionTreeClassifier</label><div class=\"sk-toggleable__content\"><pre>DecisionTreeClassifier()</pre></div></div></div><div class=\"sk-serial\"><div class=\"sk-item\"><div class=\"sk-estimator sk-toggleable\"><input class=\"sk-toggleable__control sk-hidden--visually\" id=\"sk-estimator-id-10\" type=\"checkbox\" ><label for=\"sk-estimator-id-10\" class=\"sk-toggleable__label sk-toggleable__label-arrow\">DecisionTreeClassifier</label><div class=\"sk-toggleable__content\"><pre>DecisionTreeClassifier()</pre></div></div></div></div></div></div></div></div></div></div>"
      ],
      "text/plain": [
       "GridSearchCV(cv=5, estimator=DecisionTreeClassifier(),\n",
       "             param_grid=[{'criterion': ['gini', 'entropy'],\n",
       "                          'max_depth': [2, 4, 6, 8, 10, 12],\n",
       "                          'min_samples_leaf': [1, 2, 3, 4, 5, 6, 7, 8, 9],\n",
       "                          'min_samples_split': [1, 2, 3, 4, 5, 6, 7, 8, 9],\n",
       "                          'splitter': ['best', 'random']}],\n",
       "             scoring='accuracy')"
      ]
     },
     "execution_count": 63,
     "metadata": {},
     "output_type": "execute_result"
    }
   ],
   "source": [
    "# fit grid search cv\n",
    "model_gs.fit(X_train, y_train)"
   ]
  },
  {
   "cell_type": "code",
   "execution_count": 64,
   "id": "787d3613-9b36-4b15-bf97-e677df53836a",
   "metadata": {},
   "outputs": [
    {
     "data": {
      "text/plain": [
       "{'criterion': 'gini',\n",
       " 'max_depth': 6,\n",
       " 'min_samples_leaf': 5,\n",
       " 'min_samples_split': 4,\n",
       " 'splitter': 'random'}"
      ]
     },
     "execution_count": 64,
     "metadata": {},
     "output_type": "execute_result"
    }
   ],
   "source": [
    "# hasil best parameter\n",
    "model_gs.best_params_"
   ]
  },
  {
   "cell_type": "code",
   "execution_count": 65,
   "id": "86880b62-1a83-4d6e-985f-e0f1220cc05d",
   "metadata": {},
   "outputs": [
    {
     "data": {
      "text/html": [
       "<style>#sk-container-id-7 {color: black;background-color: white;}#sk-container-id-7 pre{padding: 0;}#sk-container-id-7 div.sk-toggleable {background-color: white;}#sk-container-id-7 label.sk-toggleable__label {cursor: pointer;display: block;width: 100%;margin-bottom: 0;padding: 0.3em;box-sizing: border-box;text-align: center;}#sk-container-id-7 label.sk-toggleable__label-arrow:before {content: \"▸\";float: left;margin-right: 0.25em;color: #696969;}#sk-container-id-7 label.sk-toggleable__label-arrow:hover:before {color: black;}#sk-container-id-7 div.sk-estimator:hover label.sk-toggleable__label-arrow:before {color: black;}#sk-container-id-7 div.sk-toggleable__content {max-height: 0;max-width: 0;overflow: hidden;text-align: left;background-color: #f0f8ff;}#sk-container-id-7 div.sk-toggleable__content pre {margin: 0.2em;color: black;border-radius: 0.25em;background-color: #f0f8ff;}#sk-container-id-7 input.sk-toggleable__control:checked~div.sk-toggleable__content {max-height: 200px;max-width: 100%;overflow: auto;}#sk-container-id-7 input.sk-toggleable__control:checked~label.sk-toggleable__label-arrow:before {content: \"▾\";}#sk-container-id-7 div.sk-estimator input.sk-toggleable__control:checked~label.sk-toggleable__label {background-color: #d4ebff;}#sk-container-id-7 div.sk-label input.sk-toggleable__control:checked~label.sk-toggleable__label {background-color: #d4ebff;}#sk-container-id-7 input.sk-hidden--visually {border: 0;clip: rect(1px 1px 1px 1px);clip: rect(1px, 1px, 1px, 1px);height: 1px;margin: -1px;overflow: hidden;padding: 0;position: absolute;width: 1px;}#sk-container-id-7 div.sk-estimator {font-family: monospace;background-color: #f0f8ff;border: 1px dotted black;border-radius: 0.25em;box-sizing: border-box;margin-bottom: 0.5em;}#sk-container-id-7 div.sk-estimator:hover {background-color: #d4ebff;}#sk-container-id-7 div.sk-parallel-item::after {content: \"\";width: 100%;border-bottom: 1px solid gray;flex-grow: 1;}#sk-container-id-7 div.sk-label:hover label.sk-toggleable__label {background-color: #d4ebff;}#sk-container-id-7 div.sk-serial::before {content: \"\";position: absolute;border-left: 1px solid gray;box-sizing: border-box;top: 0;bottom: 0;left: 50%;z-index: 0;}#sk-container-id-7 div.sk-serial {display: flex;flex-direction: column;align-items: center;background-color: white;padding-right: 0.2em;padding-left: 0.2em;position: relative;}#sk-container-id-7 div.sk-item {position: relative;z-index: 1;}#sk-container-id-7 div.sk-parallel {display: flex;align-items: stretch;justify-content: center;background-color: white;position: relative;}#sk-container-id-7 div.sk-item::before, #sk-container-id-7 div.sk-parallel-item::before {content: \"\";position: absolute;border-left: 1px solid gray;box-sizing: border-box;top: 0;bottom: 0;left: 50%;z-index: -1;}#sk-container-id-7 div.sk-parallel-item {display: flex;flex-direction: column;z-index: 1;position: relative;background-color: white;}#sk-container-id-7 div.sk-parallel-item:first-child::after {align-self: flex-end;width: 50%;}#sk-container-id-7 div.sk-parallel-item:last-child::after {align-self: flex-start;width: 50%;}#sk-container-id-7 div.sk-parallel-item:only-child::after {width: 0;}#sk-container-id-7 div.sk-dashed-wrapped {border: 1px dashed gray;margin: 0 0.4em 0.5em 0.4em;box-sizing: border-box;padding-bottom: 0.4em;background-color: white;}#sk-container-id-7 div.sk-label label {font-family: monospace;font-weight: bold;display: inline-block;line-height: 1.2em;}#sk-container-id-7 div.sk-label-container {text-align: center;}#sk-container-id-7 div.sk-container {/* jupyter's `normalize.less` sets `[hidden] { display: none; }` but bootstrap.min.css set `[hidden] { display: none !important; }` so we also need the `!important` here to be able to override the default hidden behavior on the sphinx rendered scikit-learn.org. See: https://github.com/scikit-learn/scikit-learn/issues/21755 */display: inline-block !important;position: relative;}#sk-container-id-7 div.sk-text-repr-fallback {display: none;}</style><div id=\"sk-container-id-7\" class=\"sk-top-container\"><div class=\"sk-text-repr-fallback\"><pre>DecisionTreeClassifier(max_depth=6, min_samples_leaf=7, min_samples_split=4,\n",
       "                       splitter=&#x27;random&#x27;)</pre><b>In a Jupyter environment, please rerun this cell to show the HTML representation or trust the notebook. <br />On GitHub, the HTML representation is unable to render, please try loading this page with nbviewer.org.</b></div><div class=\"sk-container\" hidden><div class=\"sk-item\"><div class=\"sk-estimator sk-toggleable\"><input class=\"sk-toggleable__control sk-hidden--visually\" id=\"sk-estimator-id-11\" type=\"checkbox\" checked><label for=\"sk-estimator-id-11\" class=\"sk-toggleable__label sk-toggleable__label-arrow\">DecisionTreeClassifier</label><div class=\"sk-toggleable__content\"><pre>DecisionTreeClassifier(max_depth=6, min_samples_leaf=7, min_samples_split=4,\n",
       "                       splitter=&#x27;random&#x27;)</pre></div></div></div></div></div>"
      ],
      "text/plain": [
       "DecisionTreeClassifier(max_depth=6, min_samples_leaf=7, min_samples_split=4,\n",
       "                       splitter='random')"
      ]
     },
     "execution_count": 65,
     "metadata": {},
     "output_type": "execute_result"
    }
   ],
   "source": [
    "# train tuned model( hasil grid search cv)\n",
    "model_gs_tuned = DecisionTreeClassifier(splitter = 'random', min_samples_split = 4, min_samples_leaf=5, max_depth = 6, criterion=  'gini')\n",
    "model_gs_tuned.fit(X_train, y_train)"
   ]
  },
  {
   "cell_type": "markdown",
   "id": "bacbcca1-2dd2-4767-a8ee-3aca2e835ba4",
   "metadata": {},
   "source": [
    "##### MODEL EVALUATION"
   ]
  },
  {
   "cell_type": "code",
   "execution_count": 66,
   "id": "0aa196eb-6d6b-4350-9d7f-88ccb12fb27b",
   "metadata": {},
   "outputs": [
    {
     "name": "stdout",
     "output_type": "stream",
     "text": [
      "              precision    recall  f1-score   support\n",
      "\n",
      "           0       0.92      0.84      0.87       296\n",
      "           1       0.89      0.95      0.92       430\n",
      "\n",
      "    accuracy                           0.90       726\n",
      "   macro avg       0.90      0.89      0.90       726\n",
      "weighted avg       0.90      0.90      0.90       726\n",
      "\n"
     ]
    }
   ],
   "source": [
    "#base model\n",
    "print(classification_report(y_test, y_pred))"
   ]
  },
  {
   "cell_type": "code",
   "execution_count": 67,
   "id": "3738cf84-286e-428b-bc79-0bbf9ae0813a",
   "metadata": {},
   "outputs": [
    {
     "name": "stdout",
     "output_type": "stream",
     "text": [
      "              precision    recall  f1-score   support\n",
      "\n",
      "           0       0.86      0.79      0.83       296\n",
      "           1       0.87      0.91      0.89       430\n",
      "\n",
      "    accuracy                           0.86       726\n",
      "   macro avg       0.86      0.85      0.86       726\n",
      "weighted avg       0.86      0.86      0.86       726\n",
      "\n"
     ]
    }
   ],
   "source": [
    "# hasil tuned model dengan grid search cv\n",
    "y_pred_rs_tuned_dec = model_gs_tuned.predict(X_test)\n",
    "print(classification_report(y_test, y_pred_rs_tuned_dec))"
   ]
  },
  {
   "cell_type": "code",
   "execution_count": 68,
   "id": "0f2c0d85-8f8d-4d4e-95f2-246e17bb80b4",
   "metadata": {},
   "outputs": [
    {
     "data": {
      "text/plain": [
       "0.8636363636363636"
      ]
     },
     "execution_count": 68,
     "metadata": {},
     "output_type": "execute_result"
    }
   ],
   "source": [
    "accuracy_score(y_test, y_pred_rs_tuned_dec)"
   ]
  },
  {
   "cell_type": "markdown",
   "id": "de2bf66a-f292-4554-a0d1-c23f0c88eb88",
   "metadata": {
    "tags": []
   },
   "source": [
    "#### GRADIENTBOOSTINGCLASSIFIER"
   ]
  },
  {
   "cell_type": "code",
   "execution_count": 85,
   "id": "6819dd15-f029-41b2-af1b-f7920c5093c4",
   "metadata": {},
   "outputs": [],
   "source": [
    "# split target variable\n",
    "X = df_dec.drop(columns = 'Target')\n",
    "y = df_dec['Target']"
   ]
  },
  {
   "cell_type": "code",
   "execution_count": 86,
   "id": "d8fc01cf-ec78-453f-85ab-57eaad1bf1e9",
   "metadata": {},
   "outputs": [],
   "source": [
    "# train testsplit\n",
    "X_train, X_test, y_train, y_test = train_test_split(X,y, test_size = 0.2, random_state=0) # size test = 20%"
   ]
  },
  {
   "cell_type": "code",
   "execution_count": 87,
   "id": "a7d83b88-f6ee-46e4-863c-f891c3f02f61",
   "metadata": {},
   "outputs": [],
   "source": [
    "# model train dan fitting\n",
    "model = GradientBoostingClassifier()"
   ]
  },
  {
   "cell_type": "code",
   "execution_count": 88,
   "id": "fc05d36b-6197-427f-b438-3d0b415c4af9",
   "metadata": {},
   "outputs": [],
   "source": [
    "# gunakan grid search cv\n",
    "model_gs = GridSearchCV(estimator = model, param_grid = gb_param, cv = 5, scoring = 'accuracy') # scoring disesuaikan dengan metrics yang relevan"
   ]
  },
  {
   "cell_type": "code",
   "execution_count": null,
   "id": "8edb5eab-1fbf-490c-8834-420637045c99",
   "metadata": {},
   "outputs": [],
   "source": [
    "# fit grid search cv\n",
    "model_gs.fit(X_train, y_train)"
   ]
  },
  {
   "cell_type": "code",
   "execution_count": 74,
   "id": "208d00c9-7fe6-4d6c-b90e-212b170e6908",
   "metadata": {},
   "outputs": [
    {
     "data": {
      "text/plain": [
       "{'learning_rate': 0.1,\n",
       " 'max_depth': 7,\n",
       " 'max_features': 'sqrt',\n",
       " 'min_samples_leaf': 4,\n",
       " 'min_samples_split': 5,\n",
       " 'n_estimators': 200,\n",
       " 'subsample': 1.0}"
      ]
     },
     "execution_count": 74,
     "metadata": {},
     "output_type": "execute_result"
    }
   ],
   "source": [
    "# hasil best parameter\n",
    "model_gs.best_params_"
   ]
  },
  {
   "cell_type": "code",
   "execution_count": 92,
   "id": "3d1843c3-4228-4c79-a8ab-bea626da136b",
   "metadata": {},
   "outputs": [
    {
     "data": {
      "text/html": [
       "<style>#sk-container-id-10 {color: black;background-color: white;}#sk-container-id-10 pre{padding: 0;}#sk-container-id-10 div.sk-toggleable {background-color: white;}#sk-container-id-10 label.sk-toggleable__label {cursor: pointer;display: block;width: 100%;margin-bottom: 0;padding: 0.3em;box-sizing: border-box;text-align: center;}#sk-container-id-10 label.sk-toggleable__label-arrow:before {content: \"▸\";float: left;margin-right: 0.25em;color: #696969;}#sk-container-id-10 label.sk-toggleable__label-arrow:hover:before {color: black;}#sk-container-id-10 div.sk-estimator:hover label.sk-toggleable__label-arrow:before {color: black;}#sk-container-id-10 div.sk-toggleable__content {max-height: 0;max-width: 0;overflow: hidden;text-align: left;background-color: #f0f8ff;}#sk-container-id-10 div.sk-toggleable__content pre {margin: 0.2em;color: black;border-radius: 0.25em;background-color: #f0f8ff;}#sk-container-id-10 input.sk-toggleable__control:checked~div.sk-toggleable__content {max-height: 200px;max-width: 100%;overflow: auto;}#sk-container-id-10 input.sk-toggleable__control:checked~label.sk-toggleable__label-arrow:before {content: \"▾\";}#sk-container-id-10 div.sk-estimator input.sk-toggleable__control:checked~label.sk-toggleable__label {background-color: #d4ebff;}#sk-container-id-10 div.sk-label input.sk-toggleable__control:checked~label.sk-toggleable__label {background-color: #d4ebff;}#sk-container-id-10 input.sk-hidden--visually {border: 0;clip: rect(1px 1px 1px 1px);clip: rect(1px, 1px, 1px, 1px);height: 1px;margin: -1px;overflow: hidden;padding: 0;position: absolute;width: 1px;}#sk-container-id-10 div.sk-estimator {font-family: monospace;background-color: #f0f8ff;border: 1px dotted black;border-radius: 0.25em;box-sizing: border-box;margin-bottom: 0.5em;}#sk-container-id-10 div.sk-estimator:hover {background-color: #d4ebff;}#sk-container-id-10 div.sk-parallel-item::after {content: \"\";width: 100%;border-bottom: 1px solid gray;flex-grow: 1;}#sk-container-id-10 div.sk-label:hover label.sk-toggleable__label {background-color: #d4ebff;}#sk-container-id-10 div.sk-serial::before {content: \"\";position: absolute;border-left: 1px solid gray;box-sizing: border-box;top: 0;bottom: 0;left: 50%;z-index: 0;}#sk-container-id-10 div.sk-serial {display: flex;flex-direction: column;align-items: center;background-color: white;padding-right: 0.2em;padding-left: 0.2em;position: relative;}#sk-container-id-10 div.sk-item {position: relative;z-index: 1;}#sk-container-id-10 div.sk-parallel {display: flex;align-items: stretch;justify-content: center;background-color: white;position: relative;}#sk-container-id-10 div.sk-item::before, #sk-container-id-10 div.sk-parallel-item::before {content: \"\";position: absolute;border-left: 1px solid gray;box-sizing: border-box;top: 0;bottom: 0;left: 50%;z-index: -1;}#sk-container-id-10 div.sk-parallel-item {display: flex;flex-direction: column;z-index: 1;position: relative;background-color: white;}#sk-container-id-10 div.sk-parallel-item:first-child::after {align-self: flex-end;width: 50%;}#sk-container-id-10 div.sk-parallel-item:last-child::after {align-self: flex-start;width: 50%;}#sk-container-id-10 div.sk-parallel-item:only-child::after {width: 0;}#sk-container-id-10 div.sk-dashed-wrapped {border: 1px dashed gray;margin: 0 0.4em 0.5em 0.4em;box-sizing: border-box;padding-bottom: 0.4em;background-color: white;}#sk-container-id-10 div.sk-label label {font-family: monospace;font-weight: bold;display: inline-block;line-height: 1.2em;}#sk-container-id-10 div.sk-label-container {text-align: center;}#sk-container-id-10 div.sk-container {/* jupyter's `normalize.less` sets `[hidden] { display: none; }` but bootstrap.min.css set `[hidden] { display: none !important; }` so we also need the `!important` here to be able to override the default hidden behavior on the sphinx rendered scikit-learn.org. See: https://github.com/scikit-learn/scikit-learn/issues/21755 */display: inline-block !important;position: relative;}#sk-container-id-10 div.sk-text-repr-fallback {display: none;}</style><div id=\"sk-container-id-10\" class=\"sk-top-container\"><div class=\"sk-text-repr-fallback\"><pre>GradientBoostingClassifier(max_depth=7, max_features=&#x27;sqrt&#x27;, min_samples_leaf=4,\n",
       "                           min_samples_split=5, n_estimators=200)</pre><b>In a Jupyter environment, please rerun this cell to show the HTML representation or trust the notebook. <br />On GitHub, the HTML representation is unable to render, please try loading this page with nbviewer.org.</b></div><div class=\"sk-container\" hidden><div class=\"sk-item\"><div class=\"sk-estimator sk-toggleable\"><input class=\"sk-toggleable__control sk-hidden--visually\" id=\"sk-estimator-id-16\" type=\"checkbox\" checked><label for=\"sk-estimator-id-16\" class=\"sk-toggleable__label sk-toggleable__label-arrow\">GradientBoostingClassifier</label><div class=\"sk-toggleable__content\"><pre>GradientBoostingClassifier(max_depth=7, max_features=&#x27;sqrt&#x27;, min_samples_leaf=4,\n",
       "                           min_samples_split=5, n_estimators=200)</pre></div></div></div></div></div>"
      ],
      "text/plain": [
       "GradientBoostingClassifier(max_depth=7, max_features='sqrt', min_samples_leaf=4,\n",
       "                           min_samples_split=5, n_estimators=200)"
      ]
     },
     "execution_count": 92,
     "metadata": {},
     "output_type": "execute_result"
    }
   ],
   "source": [
    "# train tuned model( hasil grid search cv)\n",
    "model_gs_tuned = GradientBoostingClassifier(n_estimators = 200, max_depth = 7, learning_rate=0.1, min_samples_split = 5, min_samples_leaf=  4, max_features = 'sqrt', subsample = 1.0)\n",
    "model_gs_tuned.fit(X_train, y_train)"
   ]
  },
  {
   "cell_type": "markdown",
   "id": "d875ad66-8c96-41c9-8206-3aca8face1a4",
   "metadata": {},
   "source": [
    "##### MODEL EVALUATION"
   ]
  },
  {
   "cell_type": "code",
   "execution_count": 93,
   "id": "6a1c0a43-1f58-4955-87b2-19e382776f65",
   "metadata": {},
   "outputs": [
    {
     "name": "stdout",
     "output_type": "stream",
     "text": [
      "              precision    recall  f1-score   support\n",
      "\n",
      "           0       0.92      0.84      0.87       296\n",
      "           1       0.89      0.95      0.92       430\n",
      "\n",
      "    accuracy                           0.90       726\n",
      "   macro avg       0.90      0.89      0.90       726\n",
      "weighted avg       0.90      0.90      0.90       726\n",
      "\n"
     ]
    }
   ],
   "source": [
    "#base model\n",
    "print(classification_report(y_test, y_pred))"
   ]
  },
  {
   "cell_type": "code",
   "execution_count": 94,
   "id": "22b4349a-8327-4b56-a8a1-21c7b5d34c7c",
   "metadata": {},
   "outputs": [
    {
     "name": "stdout",
     "output_type": "stream",
     "text": [
      "              precision    recall  f1-score   support\n",
      "\n",
      "           0       0.92      0.84      0.88       296\n",
      "           1       0.90      0.95      0.92       430\n",
      "\n",
      "    accuracy                           0.91       726\n",
      "   macro avg       0.91      0.90      0.90       726\n",
      "weighted avg       0.91      0.91      0.91       726\n",
      "\n"
     ]
    }
   ],
   "source": [
    "# hasil tuned model dengan grid search cv\n",
    "y_pred_rs_tuned_gb = model_gs_tuned.predict(X_test)\n",
    "print(classification_report(y_test, y_pred_rs_tuned_gb))"
   ]
  },
  {
   "cell_type": "code",
   "execution_count": 95,
   "id": "6e610ae6-c45c-4475-b2f1-2a9c935cda4e",
   "metadata": {},
   "outputs": [
    {
     "data": {
      "text/plain": [
       "0.90633608815427"
      ]
     },
     "execution_count": 95,
     "metadata": {},
     "output_type": "execute_result"
    }
   ],
   "source": [
    "accuracy_score(y_test, y_pred_rs_tuned_gb)"
   ]
  },
  {
   "cell_type": "markdown",
   "id": "4dec120a-d1d3-4d4f-bb45-711eebaab511",
   "metadata": {},
   "source": [
    "> Bandingkan skor ke-3 model"
   ]
  },
  {
   "cell_type": "code",
   "execution_count": 79,
   "id": "21fc73d3-9f22-459f-aa35-7797fd4e012f",
   "metadata": {},
   "outputs": [
    {
     "name": "stdout",
     "output_type": "stream",
     "text": [
      "Logistic accuracy         : 0.7878787878787878\n",
      "Decision Tree accuracy    : 0.8636363636363636\n",
      "GradientBoosting accuracy : 0.8884297520661157\n"
     ]
    }
   ],
   "source": [
    "print(\"Logistic accuracy         :\", accuracy_score(y_test, y_pred_gs_tuned_log))\n",
    "print(\"Decision Tree accuracy    :\", accuracy_score(y_test, y_pred_rs_tuned_dec))\n",
    "print(\"GradientBoosting accuracy :\", accuracy_score(y_test, y_pred_rs_tuned_gb))"
   ]
  },
  {
   "cell_type": "code",
   "execution_count": null,
   "id": "299cb2c8-2ad5-4955-bba0-c7dab3755abd",
   "metadata": {},
   "outputs": [],
   "source": []
  }
 ],
 "metadata": {
  "kernelspec": {
   "display_name": "Python 3 (ipykernel)",
   "language": "python",
   "name": "python3"
  },
  "language_info": {
   "codemirror_mode": {
    "name": "ipython",
    "version": 3
   },
   "file_extension": ".py",
   "mimetype": "text/x-python",
   "name": "python",
   "nbconvert_exporter": "python",
   "pygments_lexer": "ipython3",
   "version": "3.9.12"
  }
 },
 "nbformat": 4,
 "nbformat_minor": 5
}
